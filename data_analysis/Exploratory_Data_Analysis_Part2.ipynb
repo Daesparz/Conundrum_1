{
 "cells": [
  {
   "cell_type": "markdown",
   "metadata": {},
   "source": [
    "# Crime data in Hampshire on March 2019\n",
    "\n",
    "This data includes a few things including the type of crime, location where it took place (latitude, longitude, LSOA code and name), last outcome category just to mention some of them.\n",
    "\n",
    "### Challenge: Predict if the accused received any form of punishment.\n",
    "\n",
    "This information is part of last outcome of the case, under the name of `Last outcome category` in the dataset. The following outcomes are considered as punishment:\n",
    "\n",
    "- Offender given a caution\n",
    "- Offender given community sentence\n",
    "- Offender fined\n",
    "- Offender given conditional discharge\n",
    "- Offender sent to prison\n",
    "- Offender given suspended prison sentence\n",
    "- Offender ordered to pay compensation \n",
    "- Offender deprived of property\n",
    "- Offender given a drugs possession warning\n",
    "\n",
    "\n",
    "In this second section, we analyze every feature and its relation with the outcome of the case"
   ]
  },
  {
   "cell_type": "code",
   "execution_count": 1,
   "metadata": {},
   "outputs": [],
   "source": [
    "from matplotlib import pyplot as plt\n",
    "from collections import Counter\n",
    "import seaborn as sns\n",
    "import pandas as pd\n",
    "import numpy as np\n",
    "import json"
   ]
  },
  {
   "cell_type": "code",
   "execution_count": 2,
   "metadata": {},
   "outputs": [],
   "source": [
    "df = pd.read_csv('../data/2019-03-hampshire-street.csv')"
   ]
  },
  {
   "cell_type": "code",
   "execution_count": 3,
   "metadata": {},
   "outputs": [
    {
     "name": "stdout",
     "output_type": "stream",
     "text": [
      "<class 'pandas.core.frame.DataFrame'>\n",
      "RangeIndex: 13757 entries, 0 to 13756\n",
      "Data columns (total 12 columns):\n",
      "Crime ID                 12836 non-null object\n",
      "Month                    13757 non-null object\n",
      "Reported by              13757 non-null object\n",
      "Falls within             13757 non-null object\n",
      "Longitude                13757 non-null float64\n",
      "Latitude                 13757 non-null float64\n",
      "Location                 13757 non-null object\n",
      "LSOA code                13757 non-null object\n",
      "LSOA name                13757 non-null object\n",
      "Crime type               13757 non-null object\n",
      "Last outcome category    12836 non-null object\n",
      "Context                  0 non-null float64\n",
      "dtypes: float64(3), object(9)\n",
      "memory usage: 1.3+ MB\n"
     ]
    }
   ],
   "source": [
    "df.info()"
   ]
  },
  {
   "cell_type": "markdown",
   "metadata": {},
   "source": [
    "1. Drop the column `Context` because it's completely empty.\n",
    "2. Drop the rows with nan values (check that Crime ID, Last outcome have less information than the rest of columns)"
   ]
  },
  {
   "cell_type": "code",
   "execution_count": 4,
   "metadata": {},
   "outputs": [],
   "source": [
    "df.drop(columns='Context', inplace=True)"
   ]
  },
  {
   "cell_type": "code",
   "execution_count": 5,
   "metadata": {},
   "outputs": [
    {
     "name": "stdout",
     "output_type": "stream",
     "text": [
      "<class 'pandas.core.frame.DataFrame'>\n",
      "Int64Index: 12836 entries, 0 to 13756\n",
      "Data columns (total 11 columns):\n",
      "Crime ID                 12836 non-null object\n",
      "Month                    12836 non-null object\n",
      "Reported by              12836 non-null object\n",
      "Falls within             12836 non-null object\n",
      "Longitude                12836 non-null float64\n",
      "Latitude                 12836 non-null float64\n",
      "Location                 12836 non-null object\n",
      "LSOA code                12836 non-null object\n",
      "LSOA name                12836 non-null object\n",
      "Crime type               12836 non-null object\n",
      "Last outcome category    12836 non-null object\n",
      "dtypes: float64(2), object(9)\n",
      "memory usage: 1.2+ MB\n"
     ]
    }
   ],
   "source": [
    "df.dropna(inplace=True)\n",
    "df.info()"
   ]
  },
  {
   "cell_type": "markdown",
   "metadata": {},
   "source": [
    "Look at the first five rows:"
   ]
  },
  {
   "cell_type": "code",
   "execution_count": 6,
   "metadata": {},
   "outputs": [
    {
     "data": {
      "text/html": [
       "<div>\n",
       "<style scoped>\n",
       "    .dataframe tbody tr th:only-of-type {\n",
       "        vertical-align: middle;\n",
       "    }\n",
       "\n",
       "    .dataframe tbody tr th {\n",
       "        vertical-align: top;\n",
       "    }\n",
       "\n",
       "    .dataframe thead th {\n",
       "        text-align: right;\n",
       "    }\n",
       "</style>\n",
       "<table border=\"1\" class=\"dataframe\">\n",
       "  <thead>\n",
       "    <tr style=\"text-align: right;\">\n",
       "      <th></th>\n",
       "      <th>Crime ID</th>\n",
       "      <th>Month</th>\n",
       "      <th>Reported by</th>\n",
       "      <th>Falls within</th>\n",
       "      <th>Longitude</th>\n",
       "      <th>Latitude</th>\n",
       "      <th>Location</th>\n",
       "      <th>LSOA code</th>\n",
       "      <th>LSOA name</th>\n",
       "      <th>Crime type</th>\n",
       "      <th>Last outcome category</th>\n",
       "    </tr>\n",
       "  </thead>\n",
       "  <tbody>\n",
       "    <tr>\n",
       "      <th>0</th>\n",
       "      <td>1edc0409a584e44e41914d2997bdbdd43614ca889b5199...</td>\n",
       "      <td>2019-03</td>\n",
       "      <td>Hampshire Constabulary</td>\n",
       "      <td>Hampshire Constabulary</td>\n",
       "      <td>-0.650636</td>\n",
       "      <td>50.793666</td>\n",
       "      <td>On or near Ferring Gardens</td>\n",
       "      <td>E01031421</td>\n",
       "      <td>Arun 015E</td>\n",
       "      <td>Violence and sexual offences</td>\n",
       "      <td>Status update unavailable</td>\n",
       "    </tr>\n",
       "    <tr>\n",
       "      <th>1</th>\n",
       "      <td>4a7fbc063a0515d44ca605dc05cedcc487032aef6db481...</td>\n",
       "      <td>2019-03</td>\n",
       "      <td>Hampshire Constabulary</td>\n",
       "      <td>Hampshire Constabulary</td>\n",
       "      <td>-0.650636</td>\n",
       "      <td>50.793666</td>\n",
       "      <td>On or near Ferring Gardens</td>\n",
       "      <td>E01031421</td>\n",
       "      <td>Arun 015E</td>\n",
       "      <td>Violence and sexual offences</td>\n",
       "      <td>Status update unavailable</td>\n",
       "    </tr>\n",
       "    <tr>\n",
       "      <th>2</th>\n",
       "      <td>4b7781de32fc30b4a5f78720f47aa5b89c216967039eee...</td>\n",
       "      <td>2019-03</td>\n",
       "      <td>Hampshire Constabulary</td>\n",
       "      <td>Hampshire Constabulary</td>\n",
       "      <td>-1.144842</td>\n",
       "      <td>51.350275</td>\n",
       "      <td>On or near Denmead Road</td>\n",
       "      <td>E01022553</td>\n",
       "      <td>Basingstoke and Deane 001A</td>\n",
       "      <td>Burglary</td>\n",
       "      <td>Investigation complete; no suspect identified</td>\n",
       "    </tr>\n",
       "    <tr>\n",
       "      <th>3</th>\n",
       "      <td>8dfe557629cfd86e61d8b9fd5d4381b17a5fd63464092b...</td>\n",
       "      <td>2019-03</td>\n",
       "      <td>Hampshire Constabulary</td>\n",
       "      <td>Hampshire Constabulary</td>\n",
       "      <td>-1.145593</td>\n",
       "      <td>51.354669</td>\n",
       "      <td>On or near Silverdale Road</td>\n",
       "      <td>E01022553</td>\n",
       "      <td>Basingstoke and Deane 001A</td>\n",
       "      <td>Violence and sexual offences</td>\n",
       "      <td>Unable to prosecute suspect</td>\n",
       "    </tr>\n",
       "    <tr>\n",
       "      <th>4</th>\n",
       "      <td>f67410fb5f97ede46d0a6b1500ebcb4fb8085366df48de...</td>\n",
       "      <td>2019-03</td>\n",
       "      <td>Hampshire Constabulary</td>\n",
       "      <td>Hampshire Constabulary</td>\n",
       "      <td>-1.155230</td>\n",
       "      <td>51.353821</td>\n",
       "      <td>On or near Huntsmoor Road</td>\n",
       "      <td>E01022554</td>\n",
       "      <td>Basingstoke and Deane 001B</td>\n",
       "      <td>Criminal damage and arson</td>\n",
       "      <td>Investigation complete; no suspect identified</td>\n",
       "    </tr>\n",
       "  </tbody>\n",
       "</table>\n",
       "</div>"
      ],
      "text/plain": [
       "                                            Crime ID    Month  \\\n",
       "0  1edc0409a584e44e41914d2997bdbdd43614ca889b5199...  2019-03   \n",
       "1  4a7fbc063a0515d44ca605dc05cedcc487032aef6db481...  2019-03   \n",
       "2  4b7781de32fc30b4a5f78720f47aa5b89c216967039eee...  2019-03   \n",
       "3  8dfe557629cfd86e61d8b9fd5d4381b17a5fd63464092b...  2019-03   \n",
       "4  f67410fb5f97ede46d0a6b1500ebcb4fb8085366df48de...  2019-03   \n",
       "\n",
       "              Reported by            Falls within  Longitude   Latitude  \\\n",
       "0  Hampshire Constabulary  Hampshire Constabulary  -0.650636  50.793666   \n",
       "1  Hampshire Constabulary  Hampshire Constabulary  -0.650636  50.793666   \n",
       "2  Hampshire Constabulary  Hampshire Constabulary  -1.144842  51.350275   \n",
       "3  Hampshire Constabulary  Hampshire Constabulary  -1.145593  51.354669   \n",
       "4  Hampshire Constabulary  Hampshire Constabulary  -1.155230  51.353821   \n",
       "\n",
       "                     Location  LSOA code                   LSOA name  \\\n",
       "0  On or near Ferring Gardens  E01031421                   Arun 015E   \n",
       "1  On or near Ferring Gardens  E01031421                   Arun 015E   \n",
       "2     On or near Denmead Road  E01022553  Basingstoke and Deane 001A   \n",
       "3  On or near Silverdale Road  E01022553  Basingstoke and Deane 001A   \n",
       "4   On or near Huntsmoor Road  E01022554  Basingstoke and Deane 001B   \n",
       "\n",
       "                     Crime type                          Last outcome category  \n",
       "0  Violence and sexual offences                      Status update unavailable  \n",
       "1  Violence and sexual offences                      Status update unavailable  \n",
       "2                      Burglary  Investigation complete; no suspect identified  \n",
       "3  Violence and sexual offences                    Unable to prosecute suspect  \n",
       "4     Criminal damage and arson  Investigation complete; no suspect identified  "
      ]
     },
     "execution_count": 6,
     "metadata": {},
     "output_type": "execute_result"
    }
   ],
   "source": [
    "df.head()"
   ]
  },
  {
   "cell_type": "markdown",
   "metadata": {},
   "source": [
    "All of those crimes happened on March. Therefore, the column `Month` doesn't offer additional information. Latitude and Longitude are interesting data for mapping the crimes, as we did in the first section using the polygonal information associated with LSOA codes. Let's use `Location`, `LSOA code` or `LSOA name` (not both, because they are dependent and that's an undesirable condition on predictive modeling) and `Crime type`. As a binary classification problem, the question is if the crime received any kind of punishment, not the nature of the outcome. Also, we have a list of outcomes that are considered as punishment. \n",
    "\n",
    "The next step is defining the label `punishment`. We looks for the keywords of the list on the column `Last outcome category` to determine if the outome is a punishment, it means, 1 or not (0).\n",
    "\n",
    "Firstly, we inspect the possible outcomes on the data:"
   ]
  },
  {
   "cell_type": "code",
   "execution_count": 7,
   "metadata": {},
   "outputs": [
    {
     "data": {
      "text/plain": [
       "array(['Status update unavailable',\n",
       "       'Investigation complete; no suspect identified',\n",
       "       'Unable to prosecute suspect', 'Awaiting court outcome',\n",
       "       'Local resolution', 'Court result unavailable',\n",
       "       'Formal action is not in the public interest',\n",
       "       'Offender given a caution',\n",
       "       'Action to be taken by another organisation',\n",
       "       'Court case unable to proceed',\n",
       "       'Offender given community sentence',\n",
       "       'Offender ordered to pay compensation',\n",
       "       'Offender given suspended prison sentence',\n",
       "       'Offender given conditional discharge', 'Offender fined',\n",
       "       'Offender sent to prison',\n",
       "       'Suspect charged as part of another case',\n",
       "       'Defendant found not guilty', 'Offender deprived of property',\n",
       "       'Offender given a drugs possession warning',\n",
       "       'Offender otherwise dealt with', 'Defendant sent to Crown Court'],\n",
       "      dtype=object)"
      ]
     },
     "execution_count": 7,
     "metadata": {},
     "output_type": "execute_result"
    }
   ],
   "source": [
    "outcome_list = df['Last outcome category'].unique()\n",
    "outcome_list"
   ]
  },
  {
   "cell_type": "markdown",
   "metadata": {},
   "source": [
    "Two alternatives to label the outomes:\n",
    "\n",
    "1. Determine if every outcome is in a pre-defined list of punishments. This is the easiest option, but what if the outcome doesn't match perfectly with the pre-defined outcomes? An extra (or lack of) space or special character is all you need to ruin the detection. It motivates the use of another choice.\n",
    "2. Create a dictionary of punishments words and determine if some expressions in the outcome words belong to the dictionary."
   ]
  },
  {
   "cell_type": "markdown",
   "metadata": {},
   "source": [
    "Importing **nltk** tools as the default list of stopwords in English language and the tokenization of words into a sentences:"
   ]
  },
  {
   "cell_type": "code",
   "execution_count": 8,
   "metadata": {},
   "outputs": [],
   "source": [
    "import nltk\n",
    "from nltk.corpus import stopwords\n",
    "from nltk.tokenize import word_tokenize"
   ]
  },
  {
   "cell_type": "markdown",
   "metadata": {},
   "source": [
    "Inspecting the list of outcomes that we must consider as punishments:\n",
    "\n",
    "- The word **offender** is in all the outcomes that classify as punishments.\n",
    "- The same word, **offender** is additionally in the outcome **Offender otherwise dealt with** that is not a punishment.\n",
    "\n",
    "Under that scenario, the **punishment list** is defined using the below conditions:"
   ]
  },
  {
   "cell_type": "code",
   "execution_count": 9,
   "metadata": {},
   "outputs": [],
   "source": [
    "punishments = []\n",
    "for outcome in outcome_list:\n",
    "    tokens = word_tokenize(outcome)\n",
    "    if 'Offender' in tokens and 'otherwise' not in tokens:\n",
    "        punishments.append(outcome)"
   ]
  },
  {
   "cell_type": "markdown",
   "metadata": {},
   "source": [
    "Displaying the list:"
   ]
  },
  {
   "cell_type": "code",
   "execution_count": 10,
   "metadata": {},
   "outputs": [
    {
     "data": {
      "text/plain": [
       "['Offender given a caution',\n",
       " 'Offender given community sentence',\n",
       " 'Offender ordered to pay compensation',\n",
       " 'Offender given suspended prison sentence',\n",
       " 'Offender given conditional discharge',\n",
       " 'Offender fined',\n",
       " 'Offender sent to prison',\n",
       " 'Offender deprived of property',\n",
       " 'Offender given a drugs possession warning']"
      ]
     },
     "execution_count": 10,
     "metadata": {},
     "output_type": "execute_result"
    }
   ],
   "source": [
    "punishments"
   ]
  },
  {
   "cell_type": "markdown",
   "metadata": {},
   "source": [
    "The punishment list is used to create the set of **punishment keywords**, applying stemming and deletion of stop words."
   ]
  },
  {
   "cell_type": "code",
   "execution_count": 11,
   "metadata": {},
   "outputs": [],
   "source": [
    "stopwords = set(stopwords.words('english'))"
   ]
  },
  {
   "cell_type": "code",
   "execution_count": 12,
   "metadata": {},
   "outputs": [],
   "source": [
    "keywords = [word.lower() for punishment in punishments for word in word_tokenize(punishment) if word not in stopwords]"
   ]
  },
  {
   "cell_type": "markdown",
   "metadata": {},
   "source": [
    "Displaying the punishment keyword:"
   ]
  },
  {
   "cell_type": "code",
   "execution_count": 13,
   "metadata": {},
   "outputs": [
    {
     "data": {
      "text/plain": [
       "{'caution',\n",
       " 'community',\n",
       " 'compensation',\n",
       " 'conditional',\n",
       " 'deprived',\n",
       " 'discharge',\n",
       " 'drugs',\n",
       " 'fined',\n",
       " 'given',\n",
       " 'offender',\n",
       " 'ordered',\n",
       " 'pay',\n",
       " 'possession',\n",
       " 'prison',\n",
       " 'property',\n",
       " 'sent',\n",
       " 'sentence',\n",
       " 'suspended',\n",
       " 'warning'}"
      ]
     },
     "execution_count": 13,
     "metadata": {},
     "output_type": "execute_result"
    }
   ],
   "source": [
    "punish_keywords = set(keywords)\n",
    "punish_keywords"
   ]
  },
  {
   "cell_type": "code",
   "execution_count": 14,
   "metadata": {},
   "outputs": [],
   "source": [
    "import string\n",
    "\n",
    "remove_punct_dict = dict((ord(punct), None) for punct in string.punctuation)\n",
    "stemmer = nltk.stem.porter.PorterStemmer()"
   ]
  },
  {
   "cell_type": "code",
   "execution_count": 15,
   "metadata": {},
   "outputs": [
    {
     "data": {
      "text/plain": [
       "['discharg',\n",
       " 'pay',\n",
       " 'compens',\n",
       " 'fine',\n",
       " 'possess',\n",
       " 'given',\n",
       " 'offend',\n",
       " 'warn',\n",
       " 'suspend',\n",
       " 'properti',\n",
       " 'caution',\n",
       " 'prison',\n",
       " 'order',\n",
       " 'sent',\n",
       " 'condit',\n",
       " 'commun',\n",
       " 'drug',\n",
       " 'sentenc',\n",
       " 'depriv']"
      ]
     },
     "execution_count": 15,
     "metadata": {},
     "output_type": "execute_result"
    }
   ],
   "source": [
    "[stemmer.stem(word.translate(remove_punct_dict)) for word in punish_keywords]"
   ]
  },
  {
   "cell_type": "code",
   "execution_count": 16,
   "metadata": {},
   "outputs": [],
   "source": [
    "def classify_punishment(outcome):\n",
    "    word_list = [word.lower() for word in word_tokenize(outcome)]\n",
    "    outcome_set = set([stemmer.stem(word.translate(remove_punct_dict)) for word in word_list])\n",
    "    coincidence = len(outcome_set.intersection(punish_keywords))\n",
    "    if coincidence >= 2:\n",
    "        return 1\n",
    "    else:\n",
    "        return 0"
   ]
  },
  {
   "cell_type": "code",
   "execution_count": 17,
   "metadata": {},
   "outputs": [],
   "source": [
    "df['label'] = df['Last outcome category'].apply(classify_punishment)"
   ]
  },
  {
   "cell_type": "code",
   "execution_count": 18,
   "metadata": {},
   "outputs": [
    {
     "data": {
      "text/html": [
       "<div>\n",
       "<style scoped>\n",
       "    .dataframe tbody tr th:only-of-type {\n",
       "        vertical-align: middle;\n",
       "    }\n",
       "\n",
       "    .dataframe tbody tr th {\n",
       "        vertical-align: top;\n",
       "    }\n",
       "\n",
       "    .dataframe thead th {\n",
       "        text-align: right;\n",
       "    }\n",
       "</style>\n",
       "<table border=\"1\" class=\"dataframe\">\n",
       "  <thead>\n",
       "    <tr style=\"text-align: right;\">\n",
       "      <th></th>\n",
       "      <th>Crime ID</th>\n",
       "      <th>Month</th>\n",
       "      <th>Reported by</th>\n",
       "      <th>Falls within</th>\n",
       "      <th>Longitude</th>\n",
       "      <th>Latitude</th>\n",
       "      <th>Location</th>\n",
       "      <th>LSOA code</th>\n",
       "      <th>LSOA name</th>\n",
       "      <th>Crime type</th>\n",
       "      <th>Last outcome category</th>\n",
       "      <th>label</th>\n",
       "    </tr>\n",
       "  </thead>\n",
       "  <tbody>\n",
       "    <tr>\n",
       "      <th>0</th>\n",
       "      <td>1edc0409a584e44e41914d2997bdbdd43614ca889b5199...</td>\n",
       "      <td>2019-03</td>\n",
       "      <td>Hampshire Constabulary</td>\n",
       "      <td>Hampshire Constabulary</td>\n",
       "      <td>-0.650636</td>\n",
       "      <td>50.793666</td>\n",
       "      <td>On or near Ferring Gardens</td>\n",
       "      <td>E01031421</td>\n",
       "      <td>Arun 015E</td>\n",
       "      <td>Violence and sexual offences</td>\n",
       "      <td>Status update unavailable</td>\n",
       "      <td>0</td>\n",
       "    </tr>\n",
       "    <tr>\n",
       "      <th>1</th>\n",
       "      <td>4a7fbc063a0515d44ca605dc05cedcc487032aef6db481...</td>\n",
       "      <td>2019-03</td>\n",
       "      <td>Hampshire Constabulary</td>\n",
       "      <td>Hampshire Constabulary</td>\n",
       "      <td>-0.650636</td>\n",
       "      <td>50.793666</td>\n",
       "      <td>On or near Ferring Gardens</td>\n",
       "      <td>E01031421</td>\n",
       "      <td>Arun 015E</td>\n",
       "      <td>Violence and sexual offences</td>\n",
       "      <td>Status update unavailable</td>\n",
       "      <td>0</td>\n",
       "    </tr>\n",
       "    <tr>\n",
       "      <th>2</th>\n",
       "      <td>4b7781de32fc30b4a5f78720f47aa5b89c216967039eee...</td>\n",
       "      <td>2019-03</td>\n",
       "      <td>Hampshire Constabulary</td>\n",
       "      <td>Hampshire Constabulary</td>\n",
       "      <td>-1.144842</td>\n",
       "      <td>51.350275</td>\n",
       "      <td>On or near Denmead Road</td>\n",
       "      <td>E01022553</td>\n",
       "      <td>Basingstoke and Deane 001A</td>\n",
       "      <td>Burglary</td>\n",
       "      <td>Investigation complete; no suspect identified</td>\n",
       "      <td>0</td>\n",
       "    </tr>\n",
       "    <tr>\n",
       "      <th>3</th>\n",
       "      <td>8dfe557629cfd86e61d8b9fd5d4381b17a5fd63464092b...</td>\n",
       "      <td>2019-03</td>\n",
       "      <td>Hampshire Constabulary</td>\n",
       "      <td>Hampshire Constabulary</td>\n",
       "      <td>-1.145593</td>\n",
       "      <td>51.354669</td>\n",
       "      <td>On or near Silverdale Road</td>\n",
       "      <td>E01022553</td>\n",
       "      <td>Basingstoke and Deane 001A</td>\n",
       "      <td>Violence and sexual offences</td>\n",
       "      <td>Unable to prosecute suspect</td>\n",
       "      <td>0</td>\n",
       "    </tr>\n",
       "    <tr>\n",
       "      <th>4</th>\n",
       "      <td>f67410fb5f97ede46d0a6b1500ebcb4fb8085366df48de...</td>\n",
       "      <td>2019-03</td>\n",
       "      <td>Hampshire Constabulary</td>\n",
       "      <td>Hampshire Constabulary</td>\n",
       "      <td>-1.155230</td>\n",
       "      <td>51.353821</td>\n",
       "      <td>On or near Huntsmoor Road</td>\n",
       "      <td>E01022554</td>\n",
       "      <td>Basingstoke and Deane 001B</td>\n",
       "      <td>Criminal damage and arson</td>\n",
       "      <td>Investigation complete; no suspect identified</td>\n",
       "      <td>0</td>\n",
       "    </tr>\n",
       "  </tbody>\n",
       "</table>\n",
       "</div>"
      ],
      "text/plain": [
       "                                            Crime ID    Month  \\\n",
       "0  1edc0409a584e44e41914d2997bdbdd43614ca889b5199...  2019-03   \n",
       "1  4a7fbc063a0515d44ca605dc05cedcc487032aef6db481...  2019-03   \n",
       "2  4b7781de32fc30b4a5f78720f47aa5b89c216967039eee...  2019-03   \n",
       "3  8dfe557629cfd86e61d8b9fd5d4381b17a5fd63464092b...  2019-03   \n",
       "4  f67410fb5f97ede46d0a6b1500ebcb4fb8085366df48de...  2019-03   \n",
       "\n",
       "              Reported by            Falls within  Longitude   Latitude  \\\n",
       "0  Hampshire Constabulary  Hampshire Constabulary  -0.650636  50.793666   \n",
       "1  Hampshire Constabulary  Hampshire Constabulary  -0.650636  50.793666   \n",
       "2  Hampshire Constabulary  Hampshire Constabulary  -1.144842  51.350275   \n",
       "3  Hampshire Constabulary  Hampshire Constabulary  -1.145593  51.354669   \n",
       "4  Hampshire Constabulary  Hampshire Constabulary  -1.155230  51.353821   \n",
       "\n",
       "                     Location  LSOA code                   LSOA name  \\\n",
       "0  On or near Ferring Gardens  E01031421                   Arun 015E   \n",
       "1  On or near Ferring Gardens  E01031421                   Arun 015E   \n",
       "2     On or near Denmead Road  E01022553  Basingstoke and Deane 001A   \n",
       "3  On or near Silverdale Road  E01022553  Basingstoke and Deane 001A   \n",
       "4   On or near Huntsmoor Road  E01022554  Basingstoke and Deane 001B   \n",
       "\n",
       "                     Crime type  \\\n",
       "0  Violence and sexual offences   \n",
       "1  Violence and sexual offences   \n",
       "2                      Burglary   \n",
       "3  Violence and sexual offences   \n",
       "4     Criminal damage and arson   \n",
       "\n",
       "                           Last outcome category  label  \n",
       "0                      Status update unavailable      0  \n",
       "1                      Status update unavailable      0  \n",
       "2  Investigation complete; no suspect identified      0  \n",
       "3                    Unable to prosecute suspect      0  \n",
       "4  Investigation complete; no suspect identified      0  "
      ]
     },
     "execution_count": 18,
     "metadata": {},
     "output_type": "execute_result"
    }
   ],
   "source": [
    "df.head()"
   ]
  },
  {
   "cell_type": "code",
   "execution_count": 19,
   "metadata": {},
   "outputs": [
    {
     "data": {
      "text/html": [
       "<div>\n",
       "<style scoped>\n",
       "    .dataframe tbody tr th:only-of-type {\n",
       "        vertical-align: middle;\n",
       "    }\n",
       "\n",
       "    .dataframe tbody tr th {\n",
       "        vertical-align: top;\n",
       "    }\n",
       "\n",
       "    .dataframe thead th {\n",
       "        text-align: right;\n",
       "    }\n",
       "</style>\n",
       "<table border=\"1\" class=\"dataframe\">\n",
       "  <thead>\n",
       "    <tr style=\"text-align: right;\">\n",
       "      <th></th>\n",
       "      <th>Crime ID</th>\n",
       "      <th>Month</th>\n",
       "      <th>Reported by</th>\n",
       "      <th>Falls within</th>\n",
       "      <th>Longitude</th>\n",
       "      <th>Latitude</th>\n",
       "      <th>Location</th>\n",
       "      <th>LSOA code</th>\n",
       "      <th>LSOA name</th>\n",
       "      <th>Crime type</th>\n",
       "      <th>Last outcome category</th>\n",
       "      <th>label</th>\n",
       "    </tr>\n",
       "  </thead>\n",
       "  <tbody>\n",
       "    <tr>\n",
       "      <th>78</th>\n",
       "      <td>14fec825996b563291dc971e8c4adbf026ea5dfadb82e7...</td>\n",
       "      <td>2019-03</td>\n",
       "      <td>Hampshire Constabulary</td>\n",
       "      <td>Hampshire Constabulary</td>\n",
       "      <td>-1.335400</td>\n",
       "      <td>51.346718</td>\n",
       "      <td>On or near Pound Lane</td>\n",
       "      <td>E01022489</td>\n",
       "      <td>Basingstoke and Deane 003B</td>\n",
       "      <td>Violence and sexual offences</td>\n",
       "      <td>Offender given a caution</td>\n",
       "      <td>1</td>\n",
       "    </tr>\n",
       "    <tr>\n",
       "      <th>148</th>\n",
       "      <td>2acb8489189c01d7ee48275de61349eba6914a9b41ba46...</td>\n",
       "      <td>2019-03</td>\n",
       "      <td>Hampshire Constabulary</td>\n",
       "      <td>Hampshire Constabulary</td>\n",
       "      <td>-1.049255</td>\n",
       "      <td>51.301467</td>\n",
       "      <td>On or near Rowner Crescent</td>\n",
       "      <td>E01022496</td>\n",
       "      <td>Basingstoke and Deane 006B</td>\n",
       "      <td>Violence and sexual offences</td>\n",
       "      <td>Offender given a caution</td>\n",
       "      <td>1</td>\n",
       "    </tr>\n",
       "    <tr>\n",
       "      <th>228</th>\n",
       "      <td>7d381892579a89a8d92d412eca573a5774ec4fca5bbc7f...</td>\n",
       "      <td>2019-03</td>\n",
       "      <td>Hampshire Constabulary</td>\n",
       "      <td>Hampshire Constabulary</td>\n",
       "      <td>-1.098325</td>\n",
       "      <td>51.281066</td>\n",
       "      <td>On or near Tintern Close</td>\n",
       "      <td>E01022543</td>\n",
       "      <td>Basingstoke and Deane 007F</td>\n",
       "      <td>Violence and sexual offences</td>\n",
       "      <td>Offender given a caution</td>\n",
       "      <td>1</td>\n",
       "    </tr>\n",
       "    <tr>\n",
       "      <th>338</th>\n",
       "      <td>f558e324e68a6cb3dbd9190ba395785c51b904ddec5cea...</td>\n",
       "      <td>2019-03</td>\n",
       "      <td>Hampshire Constabulary</td>\n",
       "      <td>Hampshire Constabulary</td>\n",
       "      <td>-1.078904</td>\n",
       "      <td>51.276410</td>\n",
       "      <td>On or near Coleman Close</td>\n",
       "      <td>E01022523</td>\n",
       "      <td>Basingstoke and Deane 008D</td>\n",
       "      <td>Violence and sexual offences</td>\n",
       "      <td>Offender given a caution</td>\n",
       "      <td>1</td>\n",
       "    </tr>\n",
       "    <tr>\n",
       "      <th>487</th>\n",
       "      <td>5b196880152653518c2dc40359ebfb9cb02543a987232c...</td>\n",
       "      <td>2019-03</td>\n",
       "      <td>Hampshire Constabulary</td>\n",
       "      <td>Hampshire Constabulary</td>\n",
       "      <td>-1.073094</td>\n",
       "      <td>51.256644</td>\n",
       "      <td>On or near Renoir Close</td>\n",
       "      <td>E01022506</td>\n",
       "      <td>Basingstoke and Deane 011C</td>\n",
       "      <td>Violence and sexual offences</td>\n",
       "      <td>Offender given a caution</td>\n",
       "      <td>1</td>\n",
       "    </tr>\n",
       "  </tbody>\n",
       "</table>\n",
       "</div>"
      ],
      "text/plain": [
       "                                              Crime ID    Month  \\\n",
       "78   14fec825996b563291dc971e8c4adbf026ea5dfadb82e7...  2019-03   \n",
       "148  2acb8489189c01d7ee48275de61349eba6914a9b41ba46...  2019-03   \n",
       "228  7d381892579a89a8d92d412eca573a5774ec4fca5bbc7f...  2019-03   \n",
       "338  f558e324e68a6cb3dbd9190ba395785c51b904ddec5cea...  2019-03   \n",
       "487  5b196880152653518c2dc40359ebfb9cb02543a987232c...  2019-03   \n",
       "\n",
       "                Reported by            Falls within  Longitude   Latitude  \\\n",
       "78   Hampshire Constabulary  Hampshire Constabulary  -1.335400  51.346718   \n",
       "148  Hampshire Constabulary  Hampshire Constabulary  -1.049255  51.301467   \n",
       "228  Hampshire Constabulary  Hampshire Constabulary  -1.098325  51.281066   \n",
       "338  Hampshire Constabulary  Hampshire Constabulary  -1.078904  51.276410   \n",
       "487  Hampshire Constabulary  Hampshire Constabulary  -1.073094  51.256644   \n",
       "\n",
       "                       Location  LSOA code                   LSOA name  \\\n",
       "78        On or near Pound Lane  E01022489  Basingstoke and Deane 003B   \n",
       "148  On or near Rowner Crescent  E01022496  Basingstoke and Deane 006B   \n",
       "228    On or near Tintern Close  E01022543  Basingstoke and Deane 007F   \n",
       "338    On or near Coleman Close  E01022523  Basingstoke and Deane 008D   \n",
       "487     On or near Renoir Close  E01022506  Basingstoke and Deane 011C   \n",
       "\n",
       "                       Crime type     Last outcome category  label  \n",
       "78   Violence and sexual offences  Offender given a caution      1  \n",
       "148  Violence and sexual offences  Offender given a caution      1  \n",
       "228  Violence and sexual offences  Offender given a caution      1  \n",
       "338  Violence and sexual offences  Offender given a caution      1  \n",
       "487  Violence and sexual offences  Offender given a caution      1  "
      ]
     },
     "execution_count": 19,
     "metadata": {},
     "output_type": "execute_result"
    }
   ],
   "source": [
    "df[df.label == 1].head()"
   ]
  },
  {
   "cell_type": "code",
   "execution_count": 20,
   "metadata": {},
   "outputs": [
    {
     "data": {
      "text/html": [
       "<div>\n",
       "<style scoped>\n",
       "    .dataframe tbody tr th:only-of-type {\n",
       "        vertical-align: middle;\n",
       "    }\n",
       "\n",
       "    .dataframe tbody tr th {\n",
       "        vertical-align: top;\n",
       "    }\n",
       "\n",
       "    .dataframe thead th {\n",
       "        text-align: right;\n",
       "    }\n",
       "</style>\n",
       "<table border=\"1\" class=\"dataframe\">\n",
       "  <thead>\n",
       "    <tr style=\"text-align: right;\">\n",
       "      <th></th>\n",
       "      <th>number_crimes</th>\n",
       "      <th>label</th>\n",
       "    </tr>\n",
       "  </thead>\n",
       "  <tbody>\n",
       "    <tr>\n",
       "      <th>0</th>\n",
       "      <td>12628</td>\n",
       "      <td>0</td>\n",
       "    </tr>\n",
       "    <tr>\n",
       "      <th>1</th>\n",
       "      <td>208</td>\n",
       "      <td>1</td>\n",
       "    </tr>\n",
       "  </tbody>\n",
       "</table>\n",
       "</div>"
      ],
      "text/plain": [
       "   number_crimes  label\n",
       "0          12628      0\n",
       "1            208      1"
      ]
     },
     "execution_count": 20,
     "metadata": {},
     "output_type": "execute_result"
    }
   ],
   "source": [
    "dist_punishment = df.groupby('label').count().reset_index().rename(columns={'Crime ID': 'number_crimes'}).loc[:, ['number_crimes', 'label']]\n",
    "dist_punishment "
   ]
  },
  {
   "cell_type": "code",
   "execution_count": 21,
   "metadata": {},
   "outputs": [
    {
     "data": {
      "image/png": "[encoded data removed]",
      "text/plain": [
       "<Figure size 468x468 with 1 Axes>"
      ]
     },
     "metadata": {},
     "output_type": "display_data"
    }
   ],
   "source": [
    "sns.set(style='white')\n",
    "\n",
    "_ = plt.figure(figsize=(6.5, 6.5))\n",
    "_ = sns.barplot(x='label', y='number_crimes', data=dist_punishment)\n",
    "_ = plt.title('Distribution of punishment', size=20)\n",
    "_ = plt.xticks((0, 1), ('No', 'Yes'), color='k', size=20)\n",
    "_ = plt.xlabel('Punishment', size=16)\n",
    "_ = plt.ylabel('Number of crimes', size=16)"
   ]
  },
  {
   "cell_type": "markdown",
   "metadata": {},
   "source": [
    "#### Types of crimes"
   ]
  },
  {
   "cell_type": "code",
   "execution_count": 22,
   "metadata": {},
   "outputs": [],
   "source": [
    "dist_crimes = df.groupby('Crime type').count().reset_index().rename(columns={'Crime ID': 'number_crimes'}).loc[:, ['Crime type', 'number_crimes']]\n",
    "dist_crimes.sort_values(by=['number_crimes'], inplace=True)"
   ]
  },
  {
   "cell_type": "code",
   "execution_count": 23,
   "metadata": {},
   "outputs": [
    {
     "data": {
      "text/html": [
       "<div>\n",
       "<style scoped>\n",
       "    .dataframe tbody tr th:only-of-type {\n",
       "        vertical-align: middle;\n",
       "    }\n",
       "\n",
       "    .dataframe tbody tr th {\n",
       "        vertical-align: top;\n",
       "    }\n",
       "\n",
       "    .dataframe thead th {\n",
       "        text-align: right;\n",
       "    }\n",
       "</style>\n",
       "<table border=\"1\" class=\"dataframe\">\n",
       "  <thead>\n",
       "    <tr style=\"text-align: right;\">\n",
       "      <th></th>\n",
       "      <th>Crime type</th>\n",
       "      <th>number_crimes</th>\n",
       "    </tr>\n",
       "  </thead>\n",
       "  <tbody>\n",
       "    <tr>\n",
       "      <th>10</th>\n",
       "      <td>Theft from the person</td>\n",
       "      <td>85</td>\n",
       "    </tr>\n",
       "    <tr>\n",
       "      <th>8</th>\n",
       "      <td>Robbery</td>\n",
       "      <td>120</td>\n",
       "    </tr>\n",
       "    <tr>\n",
       "      <th>6</th>\n",
       "      <td>Possession of weapons</td>\n",
       "      <td>170</td>\n",
       "    </tr>\n",
       "    <tr>\n",
       "      <th>4</th>\n",
       "      <td>Other crime</td>\n",
       "      <td>237</td>\n",
       "    </tr>\n",
       "    <tr>\n",
       "      <th>0</th>\n",
       "      <td>Bicycle theft</td>\n",
       "      <td>248</td>\n",
       "    </tr>\n",
       "    <tr>\n",
       "      <th>3</th>\n",
       "      <td>Drugs</td>\n",
       "      <td>352</td>\n",
       "    </tr>\n",
       "    <tr>\n",
       "      <th>11</th>\n",
       "      <td>Vehicle crime</td>\n",
       "      <td>896</td>\n",
       "    </tr>\n",
       "    <tr>\n",
       "      <th>1</th>\n",
       "      <td>Burglary</td>\n",
       "      <td>916</td>\n",
       "    </tr>\n",
       "    <tr>\n",
       "      <th>5</th>\n",
       "      <td>Other theft</td>\n",
       "      <td>1020</td>\n",
       "    </tr>\n",
       "    <tr>\n",
       "      <th>9</th>\n",
       "      <td>Shoplifting</td>\n",
       "      <td>1035</td>\n",
       "    </tr>\n",
       "    <tr>\n",
       "      <th>7</th>\n",
       "      <td>Public order</td>\n",
       "      <td>1190</td>\n",
       "    </tr>\n",
       "    <tr>\n",
       "      <th>2</th>\n",
       "      <td>Criminal damage and arson</td>\n",
       "      <td>1514</td>\n",
       "    </tr>\n",
       "    <tr>\n",
       "      <th>12</th>\n",
       "      <td>Violence and sexual offences</td>\n",
       "      <td>5053</td>\n",
       "    </tr>\n",
       "  </tbody>\n",
       "</table>\n",
       "</div>"
      ],
      "text/plain": [
       "                      Crime type  number_crimes\n",
       "10         Theft from the person             85\n",
       "8                        Robbery            120\n",
       "6          Possession of weapons            170\n",
       "4                    Other crime            237\n",
       "0                  Bicycle theft            248\n",
       "3                          Drugs            352\n",
       "11                 Vehicle crime            896\n",
       "1                       Burglary            916\n",
       "5                    Other theft           1020\n",
       "9                    Shoplifting           1035\n",
       "7                   Public order           1190\n",
       "2      Criminal damage and arson           1514\n",
       "12  Violence and sexual offences           5053"
      ]
     },
     "execution_count": 23,
     "metadata": {},
     "output_type": "execute_result"
    }
   ],
   "source": [
    "dist_crimes"
   ]
  },
  {
   "cell_type": "code",
   "execution_count": 24,
   "metadata": {},
   "outputs": [
    {
     "data": {
      "image/png": "[encoded data removed]",
      "text/plain": [
       "<Figure size 1476x468 with 1 Axes>"
      ]
     },
     "metadata": {},
     "output_type": "display_data"
    }
   ],
   "source": [
    "sns.set(style='white')\n",
    "\n",
    "_ = plt.figure(figsize=(20.5, 6.5))\n",
    "_ = sns.barplot(x='Crime type', y='number_crimes', data=dist_crimes, palette='YlGnBu')\n",
    "_ = plt.title('Distribution of types of crimes', size=20)\n",
    "_ = plt.xticks((0, 1, 2, 3, 4, 5, 6, 7, 8, 9, 10, 11, 12), \n",
    "               ('Theft', \n",
    "                'Robbery', \n",
    "                'Weapons', \n",
    "                'Other', \n",
    "                'Bicycle theft', \n",
    "                'Drugs', \n",
    "                'Vehicle crime', \n",
    "                'Burglary', \n",
    "                'Other theft', \n",
    "                'Shoplifting', \n",
    "                'Public order',\n",
    "                'Criminal', \n",
    "                'Sexual offenses'), color='k', size=14)\n",
    "_ = plt.xlabel('Type of crime', size=16)\n",
    "_ = plt.ylabel('Number of crimes', size=16)"
   ]
  },
  {
   "cell_type": "code",
   "execution_count": 25,
   "metadata": {},
   "outputs": [],
   "source": [
    "df_modeling = df.loc[:, ['Location', 'LSOA name', 'Crime type', 'label']]"
   ]
  },
  {
   "cell_type": "code",
   "execution_count": 26,
   "metadata": {
    "scrolled": true
   },
   "outputs": [
    {
     "data": {
      "text/html": [
       "<div>\n",
       "<style scoped>\n",
       "    .dataframe tbody tr th:only-of-type {\n",
       "        vertical-align: middle;\n",
       "    }\n",
       "\n",
       "    .dataframe tbody tr th {\n",
       "        vertical-align: top;\n",
       "    }\n",
       "\n",
       "    .dataframe thead th {\n",
       "        text-align: right;\n",
       "    }\n",
       "</style>\n",
       "<table border=\"1\" class=\"dataframe\">\n",
       "  <thead>\n",
       "    <tr style=\"text-align: right;\">\n",
       "      <th></th>\n",
       "      <th>Location</th>\n",
       "      <th>LSOA name</th>\n",
       "      <th>Crime type</th>\n",
       "      <th>label</th>\n",
       "    </tr>\n",
       "  </thead>\n",
       "  <tbody>\n",
       "    <tr>\n",
       "      <th>0</th>\n",
       "      <td>On or near Ferring Gardens</td>\n",
       "      <td>Arun 015E</td>\n",
       "      <td>Violence and sexual offences</td>\n",
       "      <td>0</td>\n",
       "    </tr>\n",
       "    <tr>\n",
       "      <th>1</th>\n",
       "      <td>On or near Ferring Gardens</td>\n",
       "      <td>Arun 015E</td>\n",
       "      <td>Violence and sexual offences</td>\n",
       "      <td>0</td>\n",
       "    </tr>\n",
       "    <tr>\n",
       "      <th>2</th>\n",
       "      <td>On or near Denmead Road</td>\n",
       "      <td>Basingstoke and Deane 001A</td>\n",
       "      <td>Burglary</td>\n",
       "      <td>0</td>\n",
       "    </tr>\n",
       "    <tr>\n",
       "      <th>3</th>\n",
       "      <td>On or near Silverdale Road</td>\n",
       "      <td>Basingstoke and Deane 001A</td>\n",
       "      <td>Violence and sexual offences</td>\n",
       "      <td>0</td>\n",
       "    </tr>\n",
       "    <tr>\n",
       "      <th>4</th>\n",
       "      <td>On or near Huntsmoor Road</td>\n",
       "      <td>Basingstoke and Deane 001B</td>\n",
       "      <td>Criminal damage and arson</td>\n",
       "      <td>0</td>\n",
       "    </tr>\n",
       "  </tbody>\n",
       "</table>\n",
       "</div>"
      ],
      "text/plain": [
       "                     Location                   LSOA name  \\\n",
       "0  On or near Ferring Gardens                   Arun 015E   \n",
       "1  On or near Ferring Gardens                   Arun 015E   \n",
       "2     On or near Denmead Road  Basingstoke and Deane 001A   \n",
       "3  On or near Silverdale Road  Basingstoke and Deane 001A   \n",
       "4   On or near Huntsmoor Road  Basingstoke and Deane 001B   \n",
       "\n",
       "                     Crime type  label  \n",
       "0  Violence and sexual offences      0  \n",
       "1  Violence and sexual offences      0  \n",
       "2                      Burglary      0  \n",
       "3  Violence and sexual offences      0  \n",
       "4     Criminal damage and arson      0  "
      ]
     },
     "execution_count": 26,
     "metadata": {},
     "output_type": "execute_result"
    }
   ],
   "source": [
    "df_modeling.head()"
   ]
  },
  {
   "cell_type": "code",
   "execution_count": 27,
   "metadata": {},
   "outputs": [],
   "source": [
    "location = pd.get_dummies(df_modeling['Location'], prefix='Location')\n",
    "lsoa = pd.get_dummies(df_modeling['LSOA name'], prefix='LSOA name')\n",
    "crime = pd.get_dummies(df_modeling['Crime type'], prefix='Crime type')"
   ]
  },
  {
   "cell_type": "code",
   "execution_count": 28,
   "metadata": {},
   "outputs": [],
   "source": [
    "data = location.join(lsoa)\n",
    "data = data.join(crime)"
   ]
  },
  {
   "cell_type": "code",
   "execution_count": 29,
   "metadata": {},
   "outputs": [
    {
     "data": {
      "text/html": [
       "<div>\n",
       "<style scoped>\n",
       "    .dataframe tbody tr th:only-of-type {\n",
       "        vertical-align: middle;\n",
       "    }\n",
       "\n",
       "    .dataframe tbody tr th {\n",
       "        vertical-align: top;\n",
       "    }\n",
       "\n",
       "    .dataframe thead th {\n",
       "        text-align: right;\n",
       "    }\n",
       "</style>\n",
       "<table border=\"1\" class=\"dataframe\">\n",
       "  <thead>\n",
       "    <tr style=\"text-align: right;\">\n",
       "      <th></th>\n",
       "      <th>Location_On or near A2030</th>\n",
       "      <th>Location_On or near A27</th>\n",
       "      <th>Location_On or near A272</th>\n",
       "      <th>Location_On or near A30</th>\n",
       "      <th>Location_On or near A3020</th>\n",
       "      <th>Location_On or near A3023</th>\n",
       "      <th>Location_On or near A303</th>\n",
       "      <th>Location_On or near A3057</th>\n",
       "      <th>Location_On or near A3093</th>\n",
       "      <th>Location_On or near A31</th>\n",
       "      <th>...</th>\n",
       "      <th>Crime type_Drugs</th>\n",
       "      <th>Crime type_Other crime</th>\n",
       "      <th>Crime type_Other theft</th>\n",
       "      <th>Crime type_Possession of weapons</th>\n",
       "      <th>Crime type_Public order</th>\n",
       "      <th>Crime type_Robbery</th>\n",
       "      <th>Crime type_Shoplifting</th>\n",
       "      <th>Crime type_Theft from the person</th>\n",
       "      <th>Crime type_Vehicle crime</th>\n",
       "      <th>Crime type_Violence and sexual offences</th>\n",
       "    </tr>\n",
       "  </thead>\n",
       "  <tbody>\n",
       "    <tr>\n",
       "      <th>0</th>\n",
       "      <td>0</td>\n",
       "      <td>0</td>\n",
       "      <td>0</td>\n",
       "      <td>0</td>\n",
       "      <td>0</td>\n",
       "      <td>0</td>\n",
       "      <td>0</td>\n",
       "      <td>0</td>\n",
       "      <td>0</td>\n",
       "      <td>0</td>\n",
       "      <td>...</td>\n",
       "      <td>0</td>\n",
       "      <td>0</td>\n",
       "      <td>0</td>\n",
       "      <td>0</td>\n",
       "      <td>0</td>\n",
       "      <td>0</td>\n",
       "      <td>0</td>\n",
       "      <td>0</td>\n",
       "      <td>0</td>\n",
       "      <td>1</td>\n",
       "    </tr>\n",
       "    <tr>\n",
       "      <th>1</th>\n",
       "      <td>0</td>\n",
       "      <td>0</td>\n",
       "      <td>0</td>\n",
       "      <td>0</td>\n",
       "      <td>0</td>\n",
       "      <td>0</td>\n",
       "      <td>0</td>\n",
       "      <td>0</td>\n",
       "      <td>0</td>\n",
       "      <td>0</td>\n",
       "      <td>...</td>\n",
       "      <td>0</td>\n",
       "      <td>0</td>\n",
       "      <td>0</td>\n",
       "      <td>0</td>\n",
       "      <td>0</td>\n",
       "      <td>0</td>\n",
       "      <td>0</td>\n",
       "      <td>0</td>\n",
       "      <td>0</td>\n",
       "      <td>1</td>\n",
       "    </tr>\n",
       "    <tr>\n",
       "      <th>2</th>\n",
       "      <td>0</td>\n",
       "      <td>0</td>\n",
       "      <td>0</td>\n",
       "      <td>0</td>\n",
       "      <td>0</td>\n",
       "      <td>0</td>\n",
       "      <td>0</td>\n",
       "      <td>0</td>\n",
       "      <td>0</td>\n",
       "      <td>0</td>\n",
       "      <td>...</td>\n",
       "      <td>0</td>\n",
       "      <td>0</td>\n",
       "      <td>0</td>\n",
       "      <td>0</td>\n",
       "      <td>0</td>\n",
       "      <td>0</td>\n",
       "      <td>0</td>\n",
       "      <td>0</td>\n",
       "      <td>0</td>\n",
       "      <td>0</td>\n",
       "    </tr>\n",
       "    <tr>\n",
       "      <th>3</th>\n",
       "      <td>0</td>\n",
       "      <td>0</td>\n",
       "      <td>0</td>\n",
       "      <td>0</td>\n",
       "      <td>0</td>\n",
       "      <td>0</td>\n",
       "      <td>0</td>\n",
       "      <td>0</td>\n",
       "      <td>0</td>\n",
       "      <td>0</td>\n",
       "      <td>...</td>\n",
       "      <td>0</td>\n",
       "      <td>0</td>\n",
       "      <td>0</td>\n",
       "      <td>0</td>\n",
       "      <td>0</td>\n",
       "      <td>0</td>\n",
       "      <td>0</td>\n",
       "      <td>0</td>\n",
       "      <td>0</td>\n",
       "      <td>1</td>\n",
       "    </tr>\n",
       "    <tr>\n",
       "      <th>4</th>\n",
       "      <td>0</td>\n",
       "      <td>0</td>\n",
       "      <td>0</td>\n",
       "      <td>0</td>\n",
       "      <td>0</td>\n",
       "      <td>0</td>\n",
       "      <td>0</td>\n",
       "      <td>0</td>\n",
       "      <td>0</td>\n",
       "      <td>0</td>\n",
       "      <td>...</td>\n",
       "      <td>0</td>\n",
       "      <td>0</td>\n",
       "      <td>0</td>\n",
       "      <td>0</td>\n",
       "      <td>0</td>\n",
       "      <td>0</td>\n",
       "      <td>0</td>\n",
       "      <td>0</td>\n",
       "      <td>0</td>\n",
       "      <td>0</td>\n",
       "    </tr>\n",
       "  </tbody>\n",
       "</table>\n",
       "<p>5 rows × 5756 columns</p>\n",
       "</div>"
      ],
      "text/plain": [
       "   Location_On or near A2030  Location_On or near A27  \\\n",
       "0                          0                        0   \n",
       "1                          0                        0   \n",
       "2                          0                        0   \n",
       "3                          0                        0   \n",
       "4                          0                        0   \n",
       "\n",
       "   Location_On or near A272  Location_On or near A30  \\\n",
       "0                         0                        0   \n",
       "1                         0                        0   \n",
       "2                         0                        0   \n",
       "3                         0                        0   \n",
       "4                         0                        0   \n",
       "\n",
       "   Location_On or near A3020  Location_On or near A3023  \\\n",
       "0                          0                          0   \n",
       "1                          0                          0   \n",
       "2                          0                          0   \n",
       "3                          0                          0   \n",
       "4                          0                          0   \n",
       "\n",
       "   Location_On or near A303  Location_On or near A3057  \\\n",
       "0                         0                          0   \n",
       "1                         0                          0   \n",
       "2                         0                          0   \n",
       "3                         0                          0   \n",
       "4                         0                          0   \n",
       "\n",
       "   Location_On or near A3093  Location_On or near A31  \\\n",
       "0                          0                        0   \n",
       "1                          0                        0   \n",
       "2                          0                        0   \n",
       "3                          0                        0   \n",
       "4                          0                        0   \n",
       "\n",
       "                    ...                     Crime type_Drugs  \\\n",
       "0                   ...                                    0   \n",
       "1                   ...                                    0   \n",
       "2                   ...                                    0   \n",
       "3                   ...                                    0   \n",
       "4                   ...                                    0   \n",
       "\n",
       "   Crime type_Other crime  Crime type_Other theft  \\\n",
       "0                       0                       0   \n",
       "1                       0                       0   \n",
       "2                       0                       0   \n",
       "3                       0                       0   \n",
       "4                       0                       0   \n",
       "\n",
       "   Crime type_Possession of weapons  Crime type_Public order  \\\n",
       "0                                 0                        0   \n",
       "1                                 0                        0   \n",
       "2                                 0                        0   \n",
       "3                                 0                        0   \n",
       "4                                 0                        0   \n",
       "\n",
       "   Crime type_Robbery  Crime type_Shoplifting  \\\n",
       "0                   0                       0   \n",
       "1                   0                       0   \n",
       "2                   0                       0   \n",
       "3                   0                       0   \n",
       "4                   0                       0   \n",
       "\n",
       "   Crime type_Theft from the person  Crime type_Vehicle crime  \\\n",
       "0                                 0                         0   \n",
       "1                                 0                         0   \n",
       "2                                 0                         0   \n",
       "3                                 0                         0   \n",
       "4                                 0                         0   \n",
       "\n",
       "   Crime type_Violence and sexual offences  \n",
       "0                                        1  \n",
       "1                                        1  \n",
       "2                                        0  \n",
       "3                                        1  \n",
       "4                                        0  \n",
       "\n",
       "[5 rows x 5756 columns]"
      ]
     },
     "execution_count": 29,
     "metadata": {},
     "output_type": "execute_result"
    }
   ],
   "source": [
    "data.head()"
   ]
  },
  {
   "cell_type": "code",
   "execution_count": 30,
   "metadata": {},
   "outputs": [
    {
     "data": {
      "text/plain": [
       "Index(['Location_On or near A2030', 'Location_On or near A27',\n",
       "       'Location_On or near A272', 'Location_On or near A30',\n",
       "       'Location_On or near A3020', 'Location_On or near A3023',\n",
       "       'Location_On or near A303', 'Location_On or near A3057',\n",
       "       'Location_On or near A3093', 'Location_On or near A31',\n",
       "       ...\n",
       "       'Crime type_Drugs', 'Crime type_Other crime', 'Crime type_Other theft',\n",
       "       'Crime type_Possession of weapons', 'Crime type_Public order',\n",
       "       'Crime type_Robbery', 'Crime type_Shoplifting',\n",
       "       'Crime type_Theft from the person', 'Crime type_Vehicle crime',\n",
       "       'Crime type_Violence and sexual offences'],\n",
       "      dtype='object', length=5756)"
      ]
     },
     "execution_count": 30,
     "metadata": {},
     "output_type": "execute_result"
    }
   ],
   "source": [
    "data.columns"
   ]
  },
  {
   "cell_type": "markdown",
   "metadata": {},
   "source": [
    "### Over sampling using SMOTE\n",
    "\n",
    "As we checked before, 98% of data belongs to the same category. In that unbalanced scenario, we use [SMOTE](https://imbalanced-learn.readthedocs.io/en/stable/generated/imblearn.over_sampling.SMOTE.html) for oversampling the category with less information."
   ]
  },
  {
   "cell_type": "code",
   "execution_count": 31,
   "metadata": {},
   "outputs": [
    {
     "name": "stdout",
     "output_type": "stream",
     "text": [
      "Requirement already satisfied: imbalanced-learn in /Users/daniela/anaconda3/lib/python3.7/site-packages (0.6.2)\n",
      "Requirement already satisfied: numpy>=1.11 in /Users/daniela/anaconda3/lib/python3.7/site-packages (from imbalanced-learn) (1.17.3)\n",
      "Requirement already satisfied: scipy>=0.17 in /Users/daniela/anaconda3/lib/python3.7/site-packages (from imbalanced-learn) (1.4.1)\n",
      "Requirement already satisfied: joblib>=0.11 in /Users/daniela/anaconda3/lib/python3.7/site-packages (from imbalanced-learn) (0.14.1)\n",
      "Requirement already satisfied: scikit-learn>=0.22 in /Users/daniela/anaconda3/lib/python3.7/site-packages (from imbalanced-learn) (0.22.2.post1)\n"
     ]
    }
   ],
   "source": [
    "import sys\n",
    "\n",
    "!{sys.executable} -m pip install imbalanced-learn"
   ]
  },
  {
   "cell_type": "code",
   "execution_count": 32,
   "metadata": {},
   "outputs": [],
   "source": [
    "from sklearn.linear_model import LogisticRegression\n",
    "from sklearn.model_selection import train_test_split\n",
    "\n",
    "import warnings\n",
    "warnings.filterwarnings(\"ignore\")"
   ]
  },
  {
   "cell_type": "code",
   "execution_count": 37,
   "metadata": {},
   "outputs": [],
   "source": [
    "y = df_modeling.label\n",
    "X = data"
   ]
  },
  {
   "cell_type": "code",
   "execution_count": 38,
   "metadata": {},
   "outputs": [],
   "source": [
    "X_train, X_test, y_train, y_test = train_test_split(X, y, test_size=0.3, random_state=0)"
   ]
  },
  {
   "cell_type": "code",
   "execution_count": 39,
   "metadata": {},
   "outputs": [
    {
     "name": "stderr",
     "output_type": "stream",
     "text": [
      "Using TensorFlow backend.\n"
     ]
    },
    {
     "name": "stdout",
     "output_type": "stream",
     "text": [
      "Resampled dataset shape Counter({0: 12628, 1: 12628})\n"
     ]
    }
   ],
   "source": [
    "from imblearn.over_sampling import RandomOverSampler # doctest: +NORMALIZE_WHITESPACE\n",
    "\n",
    "ros = RandomOverSampler(random_state=42)\n",
    "X_res, y_res = ros.fit_resample(X, y)\n",
    "print('Resampled dataset shape %s' % Counter(y_res))"
   ]
  },
  {
   "cell_type": "code",
   "execution_count": 40,
   "metadata": {},
   "outputs": [
    {
     "name": "stdout",
     "output_type": "stream",
     "text": [
      "Resampled dataset shape Counter({0: 12628, 1: 12628})\n"
     ]
    }
   ],
   "source": [
    "from imblearn.over_sampling import BorderlineSMOTE# doctest: +NORMALIZE_WHITESPACE\n",
    "\n",
    "sm = BorderlineSMOTE(random_state=42)\n",
    "X_res, y_res = sm.fit_resample(X, y)\n",
    "print('Resampled dataset shape %s' % Counter(y_res))"
   ]
  },
  {
   "cell_type": "code",
   "execution_count": 41,
   "metadata": {},
   "outputs": [],
   "source": [
    "columns = X_train.columns"
   ]
  },
  {
   "cell_type": "code",
   "execution_count": 42,
   "metadata": {},
   "outputs": [],
   "source": [
    "os_data_X = pd.DataFrame(data=X_res, columns=columns)\n",
    "os_data_y= pd.DataFrame(data=y_res)"
   ]
  },
  {
   "cell_type": "code",
   "execution_count": 43,
   "metadata": {},
   "outputs": [
    {
     "data": {
      "text/html": [
       "<div>\n",
       "<style scoped>\n",
       "    .dataframe tbody tr th:only-of-type {\n",
       "        vertical-align: middle;\n",
       "    }\n",
       "\n",
       "    .dataframe tbody tr th {\n",
       "        vertical-align: top;\n",
       "    }\n",
       "\n",
       "    .dataframe thead th {\n",
       "        text-align: right;\n",
       "    }\n",
       "</style>\n",
       "<table border=\"1\" class=\"dataframe\">\n",
       "  <thead>\n",
       "    <tr style=\"text-align: right;\">\n",
       "      <th></th>\n",
       "      <th>Location_On or near A2030</th>\n",
       "      <th>Location_On or near A27</th>\n",
       "      <th>Location_On or near A272</th>\n",
       "      <th>Location_On or near A30</th>\n",
       "      <th>Location_On or near A3020</th>\n",
       "      <th>Location_On or near A3023</th>\n",
       "      <th>Location_On or near A303</th>\n",
       "      <th>Location_On or near A3057</th>\n",
       "      <th>Location_On or near A3093</th>\n",
       "      <th>Location_On or near A31</th>\n",
       "      <th>...</th>\n",
       "      <th>Crime type_Drugs</th>\n",
       "      <th>Crime type_Other crime</th>\n",
       "      <th>Crime type_Other theft</th>\n",
       "      <th>Crime type_Possession of weapons</th>\n",
       "      <th>Crime type_Public order</th>\n",
       "      <th>Crime type_Robbery</th>\n",
       "      <th>Crime type_Shoplifting</th>\n",
       "      <th>Crime type_Theft from the person</th>\n",
       "      <th>Crime type_Vehicle crime</th>\n",
       "      <th>Crime type_Violence and sexual offences</th>\n",
       "    </tr>\n",
       "  </thead>\n",
       "  <tbody>\n",
       "    <tr>\n",
       "      <th>0</th>\n",
       "      <td>0</td>\n",
       "      <td>0</td>\n",
       "      <td>0</td>\n",
       "      <td>0</td>\n",
       "      <td>0</td>\n",
       "      <td>0</td>\n",
       "      <td>0</td>\n",
       "      <td>0</td>\n",
       "      <td>0</td>\n",
       "      <td>0</td>\n",
       "      <td>...</td>\n",
       "      <td>0</td>\n",
       "      <td>0</td>\n",
       "      <td>0</td>\n",
       "      <td>0</td>\n",
       "      <td>0</td>\n",
       "      <td>0</td>\n",
       "      <td>0</td>\n",
       "      <td>0</td>\n",
       "      <td>0</td>\n",
       "      <td>1</td>\n",
       "    </tr>\n",
       "    <tr>\n",
       "      <th>1</th>\n",
       "      <td>0</td>\n",
       "      <td>0</td>\n",
       "      <td>0</td>\n",
       "      <td>0</td>\n",
       "      <td>0</td>\n",
       "      <td>0</td>\n",
       "      <td>0</td>\n",
       "      <td>0</td>\n",
       "      <td>0</td>\n",
       "      <td>0</td>\n",
       "      <td>...</td>\n",
       "      <td>0</td>\n",
       "      <td>0</td>\n",
       "      <td>0</td>\n",
       "      <td>0</td>\n",
       "      <td>0</td>\n",
       "      <td>0</td>\n",
       "      <td>0</td>\n",
       "      <td>0</td>\n",
       "      <td>0</td>\n",
       "      <td>1</td>\n",
       "    </tr>\n",
       "    <tr>\n",
       "      <th>2</th>\n",
       "      <td>0</td>\n",
       "      <td>0</td>\n",
       "      <td>0</td>\n",
       "      <td>0</td>\n",
       "      <td>0</td>\n",
       "      <td>0</td>\n",
       "      <td>0</td>\n",
       "      <td>0</td>\n",
       "      <td>0</td>\n",
       "      <td>0</td>\n",
       "      <td>...</td>\n",
       "      <td>0</td>\n",
       "      <td>0</td>\n",
       "      <td>0</td>\n",
       "      <td>0</td>\n",
       "      <td>0</td>\n",
       "      <td>0</td>\n",
       "      <td>0</td>\n",
       "      <td>0</td>\n",
       "      <td>0</td>\n",
       "      <td>0</td>\n",
       "    </tr>\n",
       "    <tr>\n",
       "      <th>3</th>\n",
       "      <td>0</td>\n",
       "      <td>0</td>\n",
       "      <td>0</td>\n",
       "      <td>0</td>\n",
       "      <td>0</td>\n",
       "      <td>0</td>\n",
       "      <td>0</td>\n",
       "      <td>0</td>\n",
       "      <td>0</td>\n",
       "      <td>0</td>\n",
       "      <td>...</td>\n",
       "      <td>0</td>\n",
       "      <td>0</td>\n",
       "      <td>0</td>\n",
       "      <td>0</td>\n",
       "      <td>0</td>\n",
       "      <td>0</td>\n",
       "      <td>0</td>\n",
       "      <td>0</td>\n",
       "      <td>0</td>\n",
       "      <td>1</td>\n",
       "    </tr>\n",
       "    <tr>\n",
       "      <th>4</th>\n",
       "      <td>0</td>\n",
       "      <td>0</td>\n",
       "      <td>0</td>\n",
       "      <td>0</td>\n",
       "      <td>0</td>\n",
       "      <td>0</td>\n",
       "      <td>0</td>\n",
       "      <td>0</td>\n",
       "      <td>0</td>\n",
       "      <td>0</td>\n",
       "      <td>...</td>\n",
       "      <td>0</td>\n",
       "      <td>0</td>\n",
       "      <td>0</td>\n",
       "      <td>0</td>\n",
       "      <td>0</td>\n",
       "      <td>0</td>\n",
       "      <td>0</td>\n",
       "      <td>0</td>\n",
       "      <td>0</td>\n",
       "      <td>0</td>\n",
       "    </tr>\n",
       "  </tbody>\n",
       "</table>\n",
       "<p>5 rows × 5756 columns</p>\n",
       "</div>"
      ],
      "text/plain": [
       "   Location_On or near A2030  Location_On or near A27  \\\n",
       "0                          0                        0   \n",
       "1                          0                        0   \n",
       "2                          0                        0   \n",
       "3                          0                        0   \n",
       "4                          0                        0   \n",
       "\n",
       "   Location_On or near A272  Location_On or near A30  \\\n",
       "0                         0                        0   \n",
       "1                         0                        0   \n",
       "2                         0                        0   \n",
       "3                         0                        0   \n",
       "4                         0                        0   \n",
       "\n",
       "   Location_On or near A3020  Location_On or near A3023  \\\n",
       "0                          0                          0   \n",
       "1                          0                          0   \n",
       "2                          0                          0   \n",
       "3                          0                          0   \n",
       "4                          0                          0   \n",
       "\n",
       "   Location_On or near A303  Location_On or near A3057  \\\n",
       "0                         0                          0   \n",
       "1                         0                          0   \n",
       "2                         0                          0   \n",
       "3                         0                          0   \n",
       "4                         0                          0   \n",
       "\n",
       "   Location_On or near A3093  Location_On or near A31  \\\n",
       "0                          0                        0   \n",
       "1                          0                        0   \n",
       "2                          0                        0   \n",
       "3                          0                        0   \n",
       "4                          0                        0   \n",
       "\n",
       "                    ...                     Crime type_Drugs  \\\n",
       "0                   ...                                    0   \n",
       "1                   ...                                    0   \n",
       "2                   ...                                    0   \n",
       "3                   ...                                    0   \n",
       "4                   ...                                    0   \n",
       "\n",
       "   Crime type_Other crime  Crime type_Other theft  \\\n",
       "0                       0                       0   \n",
       "1                       0                       0   \n",
       "2                       0                       0   \n",
       "3                       0                       0   \n",
       "4                       0                       0   \n",
       "\n",
       "   Crime type_Possession of weapons  Crime type_Public order  \\\n",
       "0                                 0                        0   \n",
       "1                                 0                        0   \n",
       "2                                 0                        0   \n",
       "3                                 0                        0   \n",
       "4                                 0                        0   \n",
       "\n",
       "   Crime type_Robbery  Crime type_Shoplifting  \\\n",
       "0                   0                       0   \n",
       "1                   0                       0   \n",
       "2                   0                       0   \n",
       "3                   0                       0   \n",
       "4                   0                       0   \n",
       "\n",
       "   Crime type_Theft from the person  Crime type_Vehicle crime  \\\n",
       "0                                 0                         0   \n",
       "1                                 0                         0   \n",
       "2                                 0                         0   \n",
       "3                                 0                         0   \n",
       "4                                 0                         0   \n",
       "\n",
       "   Crime type_Violence and sexual offences  \n",
       "0                                        1  \n",
       "1                                        1  \n",
       "2                                        0  \n",
       "3                                        1  \n",
       "4                                        0  \n",
       "\n",
       "[5 rows x 5756 columns]"
      ]
     },
     "execution_count": 43,
     "metadata": {},
     "output_type": "execute_result"
    }
   ],
   "source": [
    "os_data_X.head()"
   ]
  },
  {
   "cell_type": "code",
   "execution_count": 44,
   "metadata": {},
   "outputs": [],
   "source": [
    "#print(os_data_y)"
   ]
  },
  {
   "cell_type": "code",
   "execution_count": 45,
   "metadata": {},
   "outputs": [],
   "source": [
    "X_train, X_test, y_train, y_test = train_test_split(os_data_X, os_data_y, test_size=0.3, random_state=0)"
   ]
  },
  {
   "cell_type": "code",
   "execution_count": 46,
   "metadata": {},
   "outputs": [],
   "source": [
    "from sklearn.linear_model import LogisticRegression\n",
    "from sklearn import metrics"
   ]
  },
  {
   "cell_type": "code",
   "execution_count": 47,
   "metadata": {},
   "outputs": [
    {
     "data": {
      "text/plain": [
       "LogisticRegression(C=1.0, class_weight=None, dual=False, fit_intercept=True,\n",
       "                   intercept_scaling=1, l1_ratio=None, max_iter=100,\n",
       "                   multi_class='auto', n_jobs=None, penalty='l2',\n",
       "                   random_state=None, solver='lbfgs', tol=0.0001, verbose=0,\n",
       "                   warm_start=False)"
      ]
     },
     "execution_count": 47,
     "metadata": {},
     "output_type": "execute_result"
    }
   ],
   "source": [
    "logreg = LogisticRegression()\n",
    "logreg.fit(X_train, y_train)"
   ]
  },
  {
   "cell_type": "code",
   "execution_count": 48,
   "metadata": {},
   "outputs": [
    {
     "name": "stdout",
     "output_type": "stream",
     "text": [
      "Accuracy of logistic regression classifier on test set: 0.98\n"
     ]
    }
   ],
   "source": [
    "y_pred = logreg.predict(X_test)\n",
    "print('Accuracy of logistic regression classifier on test set: {:.2f}'.format(logreg.score(X_test, y_test)))"
   ]
  },
  {
   "cell_type": "code",
   "execution_count": 49,
   "metadata": {},
   "outputs": [
    {
     "name": "stdout",
     "output_type": "stream",
     "text": [
      "[[3747   50]\n",
      " [  87 3693]]\n"
     ]
    }
   ],
   "source": [
    "from sklearn.metrics import confusion_matrix\n",
    "confusion_matrix = confusion_matrix(y_test, y_pred)\n",
    "print(confusion_matrix)"
   ]
  },
  {
   "cell_type": "code",
   "execution_count": 50,
   "metadata": {},
   "outputs": [
    {
     "name": "stdout",
     "output_type": "stream",
     "text": [
      "              precision    recall  f1-score   support\n",
      "\n",
      "           0       0.98      0.99      0.98      3797\n",
      "           1       0.99      0.98      0.98      3780\n",
      "\n",
      "    accuracy                           0.98      7577\n",
      "   macro avg       0.98      0.98      0.98      7577\n",
      "weighted avg       0.98      0.98      0.98      7577\n",
      "\n"
     ]
    }
   ],
   "source": [
    "from sklearn.metrics import classification_report\n",
    "print(classification_report(y_test, y_pred))"
   ]
  },
  {
   "cell_type": "code",
   "execution_count": 52,
   "metadata": {},
   "outputs": [
    {
     "data": {
      "image/png": "[encoded data removed]",
      "text/plain": [
       "<Figure size 468x468 with 1 Axes>"
      ]
     },
     "metadata": {},
     "output_type": "display_data"
    }
   ],
   "source": [
    "from sklearn.metrics import roc_auc_score\n",
    "from sklearn.metrics import roc_curve\n",
    "\n",
    "\n",
    "logit_roc_auc = roc_auc_score(y_test, logreg.predict(X_test))\n",
    "fpr, tpr, thresholds = roc_curve(y_test, logreg.predict_proba(X_test)[:,1])\n",
    "\n",
    "_ = plt.figure(figsize=(6.5, 6.5))\n",
    "_ = plt.plot(fpr, tpr)\n",
    "_ = plt.plot([0, 1], [0, 1],'r--')\n",
    "_ = plt.xlim([-0.05, 1.0])\n",
    "_ = plt.ylim([0.0, 1.05])\n",
    "_ = plt.xlabel('False Positive Rate')\n",
    "_ = plt.ylabel('True Positive Rate')\n",
    "_ = plt.title('ROC curve')\n",
    "#plt.savefig('Log_ROC')\n",
    "_ = plt.show()"
   ]
  },
  {
   "cell_type": "code",
   "execution_count": null,
   "metadata": {},
   "outputs": [],
   "source": []
  }
 ],
 "metadata": {
  "kernelspec": {
   "display_name": "Python 3",
   "language": "python",
   "name": "python3"
  },
  "language_info": {
   "codemirror_mode": {
    "name": "ipython",
    "version": 3
   },
   "file_extension": ".py",
   "mimetype": "text/x-python",
   "name": "python",
   "nbconvert_exporter": "python",
   "pygments_lexer": "ipython3",
   "version": "3.7.1"
  }
 },
 "nbformat": 4,
 "nbformat_minor": 2
}
