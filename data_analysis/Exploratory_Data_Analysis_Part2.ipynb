{
 "cells": [
  {
   "cell_type": "markdown",
   "metadata": {},
   "source": [
    "# Crime data in Hampshire on March 2019\n",
    "\n",
    "This data includes a few things including the type of crime, location where it took place (latitude, longitude, LSOA code and name), last outcome category just to mention some of them.\n",
    "\n",
    "### Challenge: Predict if the accused received any form of punishment.\n",
    "\n",
    "This information is part of last outcome of the case, under the name of `Last outcome category` in the dataset. The following outcomes are considered as punishment:\n",
    "\n",
    "- Offender given a caution\n",
    "- Offender given community sentence\n",
    "- Offender fined\n",
    "- Offender given conditional discharge\n",
    "- Offender sent to prison\n",
    "- Offender given suspended prison sentence\n",
    "- Offender ordered to pay compensation \n",
    "- Offender deprived of property\n",
    "- Offender given a drugs possession warning\n",
    "\n",
    "\n",
    "In this second section, we analyze every feature and its relation with the outcome of the case"
   ]
  },
  {
   "cell_type": "code",
   "execution_count": 1,
   "metadata": {},
   "outputs": [],
   "source": [
    "from matplotlib import pyplot as plt\n",
    "from collections import Counter\n",
    "import seaborn as sns\n",
    "import pandas as pd\n",
    "import numpy as np\n",
    "import string\n",
    "import json"
   ]
  },
  {
   "cell_type": "code",
   "execution_count": 2,
   "metadata": {},
   "outputs": [],
   "source": [
    "from sklearn.linear_model import LogisticRegression\n",
    "from sklearn.model_selection import train_test_split\n",
    "from sklearn import metrics\n",
    "from sklearn.metrics import classification_report\n",
    "from sklearn.metrics import confusion_matrix\n",
    "from sklearn.metrics import roc_auc_score\n",
    "from sklearn.metrics import roc_curve\n",
    "\n",
    "\n",
    "import warnings\n",
    "warnings.filterwarnings(\"ignore\")"
   ]
  },
  {
   "cell_type": "code",
   "execution_count": 3,
   "metadata": {},
   "outputs": [],
   "source": [
    "df = pd.read_csv('../data/2019-03-hampshire-street.csv')"
   ]
  },
  {
   "cell_type": "code",
   "execution_count": 4,
   "metadata": {},
   "outputs": [
    {
     "name": "stdout",
     "output_type": "stream",
     "text": [
      "<class 'pandas.core.frame.DataFrame'>\n",
      "RangeIndex: 13757 entries, 0 to 13756\n",
      "Data columns (total 12 columns):\n",
      "Crime ID                 12836 non-null object\n",
      "Month                    13757 non-null object\n",
      "Reported by              13757 non-null object\n",
      "Falls within             13757 non-null object\n",
      "Longitude                13757 non-null float64\n",
      "Latitude                 13757 non-null float64\n",
      "Location                 13757 non-null object\n",
      "LSOA code                13757 non-null object\n",
      "LSOA name                13757 non-null object\n",
      "Crime type               13757 non-null object\n",
      "Last outcome category    12836 non-null object\n",
      "Context                  0 non-null float64\n",
      "dtypes: float64(3), object(9)\n",
      "memory usage: 1.3+ MB\n"
     ]
    }
   ],
   "source": [
    "df.info()"
   ]
  },
  {
   "cell_type": "markdown",
   "metadata": {},
   "source": [
    "1. Drop the column `Context` because it's completely empty.\n",
    "2. Drop the rows with nan values (check that Crime ID, Last outcome have less information than the rest of columns)"
   ]
  },
  {
   "cell_type": "code",
   "execution_count": 5,
   "metadata": {},
   "outputs": [],
   "source": [
    "df.drop(columns='Context', inplace=True)"
   ]
  },
  {
   "cell_type": "code",
   "execution_count": 6,
   "metadata": {},
   "outputs": [
    {
     "name": "stdout",
     "output_type": "stream",
     "text": [
      "<class 'pandas.core.frame.DataFrame'>\n",
      "Int64Index: 12836 entries, 0 to 13756\n",
      "Data columns (total 11 columns):\n",
      "Crime ID                 12836 non-null object\n",
      "Month                    12836 non-null object\n",
      "Reported by              12836 non-null object\n",
      "Falls within             12836 non-null object\n",
      "Longitude                12836 non-null float64\n",
      "Latitude                 12836 non-null float64\n",
      "Location                 12836 non-null object\n",
      "LSOA code                12836 non-null object\n",
      "LSOA name                12836 non-null object\n",
      "Crime type               12836 non-null object\n",
      "Last outcome category    12836 non-null object\n",
      "dtypes: float64(2), object(9)\n",
      "memory usage: 1.2+ MB\n"
     ]
    }
   ],
   "source": [
    "df.dropna(inplace=True)\n",
    "df.info()"
   ]
  },
  {
   "cell_type": "markdown",
   "metadata": {},
   "source": [
    "Look at the first five rows:"
   ]
  },
  {
   "cell_type": "code",
   "execution_count": 7,
   "metadata": {},
   "outputs": [
    {
     "data": {
      "text/html": [
       "<div>\n",
       "<style scoped>\n",
       "    .dataframe tbody tr th:only-of-type {\n",
       "        vertical-align: middle;\n",
       "    }\n",
       "\n",
       "    .dataframe tbody tr th {\n",
       "        vertical-align: top;\n",
       "    }\n",
       "\n",
       "    .dataframe thead th {\n",
       "        text-align: right;\n",
       "    }\n",
       "</style>\n",
       "<table border=\"1\" class=\"dataframe\">\n",
       "  <thead>\n",
       "    <tr style=\"text-align: right;\">\n",
       "      <th></th>\n",
       "      <th>Crime ID</th>\n",
       "      <th>Month</th>\n",
       "      <th>Reported by</th>\n",
       "      <th>Falls within</th>\n",
       "      <th>Longitude</th>\n",
       "      <th>Latitude</th>\n",
       "      <th>Location</th>\n",
       "      <th>LSOA code</th>\n",
       "      <th>LSOA name</th>\n",
       "      <th>Crime type</th>\n",
       "      <th>Last outcome category</th>\n",
       "    </tr>\n",
       "  </thead>\n",
       "  <tbody>\n",
       "    <tr>\n",
       "      <th>0</th>\n",
       "      <td>1edc0409a584e44e41914d2997bdbdd43614ca889b5199...</td>\n",
       "      <td>2019-03</td>\n",
       "      <td>Hampshire Constabulary</td>\n",
       "      <td>Hampshire Constabulary</td>\n",
       "      <td>-0.650636</td>\n",
       "      <td>50.793666</td>\n",
       "      <td>On or near Ferring Gardens</td>\n",
       "      <td>E01031421</td>\n",
       "      <td>Arun 015E</td>\n",
       "      <td>Violence and sexual offences</td>\n",
       "      <td>Status update unavailable</td>\n",
       "    </tr>\n",
       "    <tr>\n",
       "      <th>1</th>\n",
       "      <td>4a7fbc063a0515d44ca605dc05cedcc487032aef6db481...</td>\n",
       "      <td>2019-03</td>\n",
       "      <td>Hampshire Constabulary</td>\n",
       "      <td>Hampshire Constabulary</td>\n",
       "      <td>-0.650636</td>\n",
       "      <td>50.793666</td>\n",
       "      <td>On or near Ferring Gardens</td>\n",
       "      <td>E01031421</td>\n",
       "      <td>Arun 015E</td>\n",
       "      <td>Violence and sexual offences</td>\n",
       "      <td>Status update unavailable</td>\n",
       "    </tr>\n",
       "    <tr>\n",
       "      <th>2</th>\n",
       "      <td>4b7781de32fc30b4a5f78720f47aa5b89c216967039eee...</td>\n",
       "      <td>2019-03</td>\n",
       "      <td>Hampshire Constabulary</td>\n",
       "      <td>Hampshire Constabulary</td>\n",
       "      <td>-1.144842</td>\n",
       "      <td>51.350275</td>\n",
       "      <td>On or near Denmead Road</td>\n",
       "      <td>E01022553</td>\n",
       "      <td>Basingstoke and Deane 001A</td>\n",
       "      <td>Burglary</td>\n",
       "      <td>Investigation complete; no suspect identified</td>\n",
       "    </tr>\n",
       "    <tr>\n",
       "      <th>3</th>\n",
       "      <td>8dfe557629cfd86e61d8b9fd5d4381b17a5fd63464092b...</td>\n",
       "      <td>2019-03</td>\n",
       "      <td>Hampshire Constabulary</td>\n",
       "      <td>Hampshire Constabulary</td>\n",
       "      <td>-1.145593</td>\n",
       "      <td>51.354669</td>\n",
       "      <td>On or near Silverdale Road</td>\n",
       "      <td>E01022553</td>\n",
       "      <td>Basingstoke and Deane 001A</td>\n",
       "      <td>Violence and sexual offences</td>\n",
       "      <td>Unable to prosecute suspect</td>\n",
       "    </tr>\n",
       "    <tr>\n",
       "      <th>4</th>\n",
       "      <td>f67410fb5f97ede46d0a6b1500ebcb4fb8085366df48de...</td>\n",
       "      <td>2019-03</td>\n",
       "      <td>Hampshire Constabulary</td>\n",
       "      <td>Hampshire Constabulary</td>\n",
       "      <td>-1.155230</td>\n",
       "      <td>51.353821</td>\n",
       "      <td>On or near Huntsmoor Road</td>\n",
       "      <td>E01022554</td>\n",
       "      <td>Basingstoke and Deane 001B</td>\n",
       "      <td>Criminal damage and arson</td>\n",
       "      <td>Investigation complete; no suspect identified</td>\n",
       "    </tr>\n",
       "  </tbody>\n",
       "</table>\n",
       "</div>"
      ],
      "text/plain": [
       "                                            Crime ID    Month  \\\n",
       "0  1edc0409a584e44e41914d2997bdbdd43614ca889b5199...  2019-03   \n",
       "1  4a7fbc063a0515d44ca605dc05cedcc487032aef6db481...  2019-03   \n",
       "2  4b7781de32fc30b4a5f78720f47aa5b89c216967039eee...  2019-03   \n",
       "3  8dfe557629cfd86e61d8b9fd5d4381b17a5fd63464092b...  2019-03   \n",
       "4  f67410fb5f97ede46d0a6b1500ebcb4fb8085366df48de...  2019-03   \n",
       "\n",
       "              Reported by            Falls within  Longitude   Latitude  \\\n",
       "0  Hampshire Constabulary  Hampshire Constabulary  -0.650636  50.793666   \n",
       "1  Hampshire Constabulary  Hampshire Constabulary  -0.650636  50.793666   \n",
       "2  Hampshire Constabulary  Hampshire Constabulary  -1.144842  51.350275   \n",
       "3  Hampshire Constabulary  Hampshire Constabulary  -1.145593  51.354669   \n",
       "4  Hampshire Constabulary  Hampshire Constabulary  -1.155230  51.353821   \n",
       "\n",
       "                     Location  LSOA code                   LSOA name  \\\n",
       "0  On or near Ferring Gardens  E01031421                   Arun 015E   \n",
       "1  On or near Ferring Gardens  E01031421                   Arun 015E   \n",
       "2     On or near Denmead Road  E01022553  Basingstoke and Deane 001A   \n",
       "3  On or near Silverdale Road  E01022553  Basingstoke and Deane 001A   \n",
       "4   On or near Huntsmoor Road  E01022554  Basingstoke and Deane 001B   \n",
       "\n",
       "                     Crime type                          Last outcome category  \n",
       "0  Violence and sexual offences                      Status update unavailable  \n",
       "1  Violence and sexual offences                      Status update unavailable  \n",
       "2                      Burglary  Investigation complete; no suspect identified  \n",
       "3  Violence and sexual offences                    Unable to prosecute suspect  \n",
       "4     Criminal damage and arson  Investigation complete; no suspect identified  "
      ]
     },
     "execution_count": 7,
     "metadata": {},
     "output_type": "execute_result"
    }
   ],
   "source": [
    "df.head()"
   ]
  },
  {
   "cell_type": "markdown",
   "metadata": {},
   "source": [
    "All of those crimes happened on March. Therefore, the column `Month` doesn't offer additional information. Latitude and Longitude are interesting data for mapping the crimes, as we did in the first section using the polygonal information associated with LSOA codes. Let's use `Location`, `LSOA code` or `LSOA name` (not both, because they are dependent and that's an undesirable condition on predictive modeling) and `Crime type`. As a binary classification problem, the question is if the crime received any kind of punishment, not the nature of the outcome. Also, we have a list of outcomes that are considered as punishment. \n",
    "\n",
    "The next step is defining the label `punishment`. We looks for the keywords of the list on the column `Last outcome category` to determine if the outome is a punishment, it means, 1 or not (0).\n",
    "\n",
    "Firstly, we inspect the possible outcomes on the data:"
   ]
  },
  {
   "cell_type": "code",
   "execution_count": 8,
   "metadata": {},
   "outputs": [
    {
     "data": {
      "text/plain": [
       "array(['Status update unavailable',\n",
       "       'Investigation complete; no suspect identified',\n",
       "       'Unable to prosecute suspect', 'Awaiting court outcome',\n",
       "       'Local resolution', 'Court result unavailable',\n",
       "       'Formal action is not in the public interest',\n",
       "       'Offender given a caution',\n",
       "       'Action to be taken by another organisation',\n",
       "       'Court case unable to proceed',\n",
       "       'Offender given community sentence',\n",
       "       'Offender ordered to pay compensation',\n",
       "       'Offender given suspended prison sentence',\n",
       "       'Offender given conditional discharge', 'Offender fined',\n",
       "       'Offender sent to prison',\n",
       "       'Suspect charged as part of another case',\n",
       "       'Defendant found not guilty', 'Offender deprived of property',\n",
       "       'Offender given a drugs possession warning',\n",
       "       'Offender otherwise dealt with', 'Defendant sent to Crown Court'],\n",
       "      dtype=object)"
      ]
     },
     "execution_count": 8,
     "metadata": {},
     "output_type": "execute_result"
    }
   ],
   "source": [
    "outcome_list = df['Last outcome category'].unique()\n",
    "outcome_list"
   ]
  },
  {
   "cell_type": "markdown",
   "metadata": {},
   "source": [
    "Two alternatives to label the outomes:\n",
    "\n",
    "1. Determine if every outcome is in a pre-defined list of punishments. This is the easiest option, but what if the outcome doesn't match perfectly with the pre-defined outcomes? An extra (or lack of) space or special character is all you need to ruin the detection. It motivates the use of another choice.\n",
    "2. Create a dictionary of punishments words and determine if some expressions in the outcome words belong to the dictionary."
   ]
  },
  {
   "cell_type": "code",
   "execution_count": 9,
   "metadata": {},
   "outputs": [],
   "source": [
    "dist_outcomes = df.groupby('Last outcome category').count().reset_index().rename(columns={'Crime ID': 'number_cases'}).loc[:, ['Last outcome category', 'number_cases']]\n",
    "dist_outcomes.sort_values(by=['number_cases'], ascending=False, inplace=True)"
   ]
  },
  {
   "cell_type": "code",
   "execution_count": 10,
   "metadata": {},
   "outputs": [
    {
     "data": {
      "text/html": [
       "<div>\n",
       "<style scoped>\n",
       "    .dataframe tbody tr th:only-of-type {\n",
       "        vertical-align: middle;\n",
       "    }\n",
       "\n",
       "    .dataframe tbody tr th {\n",
       "        vertical-align: top;\n",
       "    }\n",
       "\n",
       "    .dataframe thead th {\n",
       "        text-align: right;\n",
       "    }\n",
       "</style>\n",
       "<table border=\"1\" class=\"dataframe\">\n",
       "  <thead>\n",
       "    <tr style=\"text-align: right;\">\n",
       "      <th></th>\n",
       "      <th>Last outcome category</th>\n",
       "      <th>number_cases</th>\n",
       "    </tr>\n",
       "  </thead>\n",
       "  <tbody>\n",
       "    <tr>\n",
       "      <th>7</th>\n",
       "      <td>Investigation complete; no suspect identified</td>\n",
       "      <td>5120</td>\n",
       "    </tr>\n",
       "    <tr>\n",
       "      <th>21</th>\n",
       "      <td>Unable to prosecute suspect</td>\n",
       "      <td>4475</td>\n",
       "    </tr>\n",
       "    <tr>\n",
       "      <th>19</th>\n",
       "      <td>Status update unavailable</td>\n",
       "      <td>1258</td>\n",
       "    </tr>\n",
       "    <tr>\n",
       "      <th>3</th>\n",
       "      <td>Court result unavailable</td>\n",
       "      <td>567</td>\n",
       "    </tr>\n",
       "    <tr>\n",
       "      <th>8</th>\n",
       "      <td>Local resolution</td>\n",
       "      <td>469</td>\n",
       "    </tr>\n",
       "    <tr>\n",
       "      <th>1</th>\n",
       "      <td>Awaiting court outcome</td>\n",
       "      <td>311</td>\n",
       "    </tr>\n",
       "    <tr>\n",
       "      <th>6</th>\n",
       "      <td>Formal action is not in the public interest</td>\n",
       "      <td>180</td>\n",
       "    </tr>\n",
       "    <tr>\n",
       "      <th>11</th>\n",
       "      <td>Offender given a caution</td>\n",
       "      <td>175</td>\n",
       "    </tr>\n",
       "    <tr>\n",
       "      <th>0</th>\n",
       "      <td>Action to be taken by another organisation</td>\n",
       "      <td>82</td>\n",
       "    </tr>\n",
       "    <tr>\n",
       "      <th>13</th>\n",
       "      <td>Offender given community sentence</td>\n",
       "      <td>58</td>\n",
       "    </tr>\n",
       "    <tr>\n",
       "      <th>10</th>\n",
       "      <td>Offender fined</td>\n",
       "      <td>37</td>\n",
       "    </tr>\n",
       "    <tr>\n",
       "      <th>14</th>\n",
       "      <td>Offender given conditional discharge</td>\n",
       "      <td>24</td>\n",
       "    </tr>\n",
       "    <tr>\n",
       "      <th>18</th>\n",
       "      <td>Offender sent to prison</td>\n",
       "      <td>22</td>\n",
       "    </tr>\n",
       "    <tr>\n",
       "      <th>2</th>\n",
       "      <td>Court case unable to proceed</td>\n",
       "      <td>14</td>\n",
       "    </tr>\n",
       "    <tr>\n",
       "      <th>4</th>\n",
       "      <td>Defendant found not guilty</td>\n",
       "      <td>13</td>\n",
       "    </tr>\n",
       "    <tr>\n",
       "      <th>15</th>\n",
       "      <td>Offender given suspended prison sentence</td>\n",
       "      <td>11</td>\n",
       "    </tr>\n",
       "    <tr>\n",
       "      <th>16</th>\n",
       "      <td>Offender ordered to pay compensation</td>\n",
       "      <td>7</td>\n",
       "    </tr>\n",
       "    <tr>\n",
       "      <th>20</th>\n",
       "      <td>Suspect charged as part of another case</td>\n",
       "      <td>6</td>\n",
       "    </tr>\n",
       "    <tr>\n",
       "      <th>9</th>\n",
       "      <td>Offender deprived of property</td>\n",
       "      <td>3</td>\n",
       "    </tr>\n",
       "    <tr>\n",
       "      <th>17</th>\n",
       "      <td>Offender otherwise dealt with</td>\n",
       "      <td>2</td>\n",
       "    </tr>\n",
       "    <tr>\n",
       "      <th>5</th>\n",
       "      <td>Defendant sent to Crown Court</td>\n",
       "      <td>1</td>\n",
       "    </tr>\n",
       "    <tr>\n",
       "      <th>12</th>\n",
       "      <td>Offender given a drugs possession warning</td>\n",
       "      <td>1</td>\n",
       "    </tr>\n",
       "  </tbody>\n",
       "</table>\n",
       "</div>"
      ],
      "text/plain": [
       "                            Last outcome category  number_cases\n",
       "7   Investigation complete; no suspect identified          5120\n",
       "21                    Unable to prosecute suspect          4475\n",
       "19                      Status update unavailable          1258\n",
       "3                        Court result unavailable           567\n",
       "8                                Local resolution           469\n",
       "1                          Awaiting court outcome           311\n",
       "6     Formal action is not in the public interest           180\n",
       "11                       Offender given a caution           175\n",
       "0      Action to be taken by another organisation            82\n",
       "13              Offender given community sentence            58\n",
       "10                                 Offender fined            37\n",
       "14           Offender given conditional discharge            24\n",
       "18                        Offender sent to prison            22\n",
       "2                    Court case unable to proceed            14\n",
       "4                      Defendant found not guilty            13\n",
       "15       Offender given suspended prison sentence            11\n",
       "16           Offender ordered to pay compensation             7\n",
       "20        Suspect charged as part of another case             6\n",
       "9                   Offender deprived of property             3\n",
       "17                  Offender otherwise dealt with             2\n",
       "5                   Defendant sent to Crown Court             1\n",
       "12      Offender given a drugs possession warning             1"
      ]
     },
     "execution_count": 10,
     "metadata": {},
     "output_type": "execute_result"
    }
   ],
   "source": [
    "dist_outcomes"
   ]
  },
  {
   "cell_type": "code",
   "execution_count": 11,
   "metadata": {},
   "outputs": [
    {
     "data": {
      "text/html": [
       "<div>\n",
       "<style scoped>\n",
       "    .dataframe tbody tr th:only-of-type {\n",
       "        vertical-align: middle;\n",
       "    }\n",
       "\n",
       "    .dataframe tbody tr th {\n",
       "        vertical-align: top;\n",
       "    }\n",
       "\n",
       "    .dataframe thead th {\n",
       "        text-align: right;\n",
       "    }\n",
       "</style>\n",
       "<table border=\"1\" class=\"dataframe\">\n",
       "  <thead>\n",
       "    <tr style=\"text-align: right;\">\n",
       "      <th></th>\n",
       "      <th>Last outcome category</th>\n",
       "      <th>number_cases</th>\n",
       "      <th>% total cases</th>\n",
       "    </tr>\n",
       "  </thead>\n",
       "  <tbody>\n",
       "    <tr>\n",
       "      <th>7</th>\n",
       "      <td>Investigation complete; no suspect identified</td>\n",
       "      <td>5120</td>\n",
       "      <td>39.887816</td>\n",
       "    </tr>\n",
       "    <tr>\n",
       "      <th>21</th>\n",
       "      <td>Unable to prosecute suspect</td>\n",
       "      <td>4475</td>\n",
       "      <td>34.862886</td>\n",
       "    </tr>\n",
       "    <tr>\n",
       "      <th>19</th>\n",
       "      <td>Status update unavailable</td>\n",
       "      <td>1258</td>\n",
       "      <td>9.800561</td>\n",
       "    </tr>\n",
       "    <tr>\n",
       "      <th>3</th>\n",
       "      <td>Court result unavailable</td>\n",
       "      <td>567</td>\n",
       "      <td>4.417264</td>\n",
       "    </tr>\n",
       "    <tr>\n",
       "      <th>8</th>\n",
       "      <td>Local resolution</td>\n",
       "      <td>469</td>\n",
       "      <td>3.653786</td>\n",
       "    </tr>\n",
       "    <tr>\n",
       "      <th>1</th>\n",
       "      <td>Awaiting court outcome</td>\n",
       "      <td>311</td>\n",
       "      <td>2.422873</td>\n",
       "    </tr>\n",
       "    <tr>\n",
       "      <th>6</th>\n",
       "      <td>Formal action is not in the public interest</td>\n",
       "      <td>180</td>\n",
       "      <td>1.402306</td>\n",
       "    </tr>\n",
       "    <tr>\n",
       "      <th>11</th>\n",
       "      <td>Offender given a caution</td>\n",
       "      <td>175</td>\n",
       "      <td>1.363353</td>\n",
       "    </tr>\n",
       "    <tr>\n",
       "      <th>0</th>\n",
       "      <td>Action to be taken by another organisation</td>\n",
       "      <td>82</td>\n",
       "      <td>0.638828</td>\n",
       "    </tr>\n",
       "    <tr>\n",
       "      <th>13</th>\n",
       "      <td>Offender given community sentence</td>\n",
       "      <td>58</td>\n",
       "      <td>0.451854</td>\n",
       "    </tr>\n",
       "    <tr>\n",
       "      <th>10</th>\n",
       "      <td>Offender fined</td>\n",
       "      <td>37</td>\n",
       "      <td>0.288252</td>\n",
       "    </tr>\n",
       "    <tr>\n",
       "      <th>14</th>\n",
       "      <td>Offender given conditional discharge</td>\n",
       "      <td>24</td>\n",
       "      <td>0.186974</td>\n",
       "    </tr>\n",
       "    <tr>\n",
       "      <th>18</th>\n",
       "      <td>Offender sent to prison</td>\n",
       "      <td>22</td>\n",
       "      <td>0.171393</td>\n",
       "    </tr>\n",
       "    <tr>\n",
       "      <th>2</th>\n",
       "      <td>Court case unable to proceed</td>\n",
       "      <td>14</td>\n",
       "      <td>0.109068</td>\n",
       "    </tr>\n",
       "    <tr>\n",
       "      <th>4</th>\n",
       "      <td>Defendant found not guilty</td>\n",
       "      <td>13</td>\n",
       "      <td>0.101278</td>\n",
       "    </tr>\n",
       "    <tr>\n",
       "      <th>15</th>\n",
       "      <td>Offender given suspended prison sentence</td>\n",
       "      <td>11</td>\n",
       "      <td>0.085696</td>\n",
       "    </tr>\n",
       "    <tr>\n",
       "      <th>16</th>\n",
       "      <td>Offender ordered to pay compensation</td>\n",
       "      <td>7</td>\n",
       "      <td>0.054534</td>\n",
       "    </tr>\n",
       "    <tr>\n",
       "      <th>20</th>\n",
       "      <td>Suspect charged as part of another case</td>\n",
       "      <td>6</td>\n",
       "      <td>0.046744</td>\n",
       "    </tr>\n",
       "    <tr>\n",
       "      <th>9</th>\n",
       "      <td>Offender deprived of property</td>\n",
       "      <td>3</td>\n",
       "      <td>0.023372</td>\n",
       "    </tr>\n",
       "    <tr>\n",
       "      <th>17</th>\n",
       "      <td>Offender otherwise dealt with</td>\n",
       "      <td>2</td>\n",
       "      <td>0.015581</td>\n",
       "    </tr>\n",
       "    <tr>\n",
       "      <th>5</th>\n",
       "      <td>Defendant sent to Crown Court</td>\n",
       "      <td>1</td>\n",
       "      <td>0.007791</td>\n",
       "    </tr>\n",
       "    <tr>\n",
       "      <th>12</th>\n",
       "      <td>Offender given a drugs possession warning</td>\n",
       "      <td>1</td>\n",
       "      <td>0.007791</td>\n",
       "    </tr>\n",
       "  </tbody>\n",
       "</table>\n",
       "</div>"
      ],
      "text/plain": [
       "                            Last outcome category  number_cases  % total cases\n",
       "7   Investigation complete; no suspect identified          5120      39.887816\n",
       "21                    Unable to prosecute suspect          4475      34.862886\n",
       "19                      Status update unavailable          1258       9.800561\n",
       "3                        Court result unavailable           567       4.417264\n",
       "8                                Local resolution           469       3.653786\n",
       "1                          Awaiting court outcome           311       2.422873\n",
       "6     Formal action is not in the public interest           180       1.402306\n",
       "11                       Offender given a caution           175       1.363353\n",
       "0      Action to be taken by another organisation            82       0.638828\n",
       "13              Offender given community sentence            58       0.451854\n",
       "10                                 Offender fined            37       0.288252\n",
       "14           Offender given conditional discharge            24       0.186974\n",
       "18                        Offender sent to prison            22       0.171393\n",
       "2                    Court case unable to proceed            14       0.109068\n",
       "4                      Defendant found not guilty            13       0.101278\n",
       "15       Offender given suspended prison sentence            11       0.085696\n",
       "16           Offender ordered to pay compensation             7       0.054534\n",
       "20        Suspect charged as part of another case             6       0.046744\n",
       "9                   Offender deprived of property             3       0.023372\n",
       "17                  Offender otherwise dealt with             2       0.015581\n",
       "5                   Defendant sent to Crown Court             1       0.007791\n",
       "12      Offender given a drugs possession warning             1       0.007791"
      ]
     },
     "execution_count": 11,
     "metadata": {},
     "output_type": "execute_result"
    }
   ],
   "source": [
    "dist_outcomes['% total cases'] = (dist_outcomes['number_cases']/dist_outcomes.number_cases.sum())*100\n",
    "dist_outcomes"
   ]
  },
  {
   "cell_type": "markdown",
   "metadata": {},
   "source": [
    "Additionally, we delete the following categories\n",
    "\n",
    "- Awaiting court outcome\n",
    "- Court result unavailable\n",
    "- Status update unavailable\n",
    "- Defendant sent to Crown Court\n",
    "- Formal action is not in the public interest\n",
    "- Local resolution\n",
    "\n",
    "The binary classification problem that we are trying to resolve if about if the cases have a punishment or not and the categories below don't give more information about that."
   ]
  },
  {
   "cell_type": "code",
   "execution_count": 12,
   "metadata": {},
   "outputs": [],
   "source": [
    "df = df[(df['Last outcome category'] != 'Awaiting court outcome') & \n",
    "        (df['Last outcome category'] != 'Court result unavailable') &\n",
    "        (df['Last outcome category'] != 'Status update unavailable') &\n",
    "        (df['Last outcome category'] != 'Defendant sent to Crown Court') &\n",
    "        (df['Last outcome category'] != 'Formal action is not in the public interest') &\n",
    "        (df['Last outcome category'] != 'Local resolution')]"
   ]
  },
  {
   "cell_type": "markdown",
   "metadata": {},
   "source": [
    "Importing **nltk** tools as the default list of stopwords in English language and the tokenization of words into a sentences:"
   ]
  },
  {
   "cell_type": "code",
   "execution_count": 13,
   "metadata": {},
   "outputs": [],
   "source": [
    "import nltk\n",
    "from nltk.corpus import stopwords\n",
    "from nltk.tokenize import word_tokenize"
   ]
  },
  {
   "cell_type": "markdown",
   "metadata": {},
   "source": [
    "Inspecting the list of outcomes that we must consider as punishments:\n",
    "\n",
    "- The word **offender** is in all the outcomes that classify as punishments.\n",
    "- The same word, **offender** is additionally in the outcome **Offender otherwise dealt with** that is not a punishment.\n",
    "\n",
    "Under that scenario, the **punishment list** is defined using the below conditions:"
   ]
  },
  {
   "cell_type": "code",
   "execution_count": 14,
   "metadata": {},
   "outputs": [],
   "source": [
    "punishments = []\n",
    "for outcome in outcome_list:\n",
    "    tokens = word_tokenize(outcome)\n",
    "    if 'Offender' in tokens and 'otherwise' not in tokens:\n",
    "        punishments.append(outcome)"
   ]
  },
  {
   "cell_type": "markdown",
   "metadata": {},
   "source": [
    "Displaying the list:"
   ]
  },
  {
   "cell_type": "code",
   "execution_count": 15,
   "metadata": {},
   "outputs": [
    {
     "data": {
      "text/plain": [
       "['Offender given a caution',\n",
       " 'Offender given community sentence',\n",
       " 'Offender ordered to pay compensation',\n",
       " 'Offender given suspended prison sentence',\n",
       " 'Offender given conditional discharge',\n",
       " 'Offender fined',\n",
       " 'Offender sent to prison',\n",
       " 'Offender deprived of property',\n",
       " 'Offender given a drugs possession warning']"
      ]
     },
     "execution_count": 15,
     "metadata": {},
     "output_type": "execute_result"
    }
   ],
   "source": [
    "punishments"
   ]
  },
  {
   "cell_type": "markdown",
   "metadata": {},
   "source": [
    "The punishment list is used to create the set of **punishment keywords**, applying stemming and deletion of stop words."
   ]
  },
  {
   "cell_type": "code",
   "execution_count": 16,
   "metadata": {},
   "outputs": [],
   "source": [
    "stopwords = set(stopwords.words('english'))"
   ]
  },
  {
   "cell_type": "code",
   "execution_count": 17,
   "metadata": {},
   "outputs": [],
   "source": [
    "keywords = [word.lower() for punishment in punishments for word in word_tokenize(punishment) if word not in stopwords]"
   ]
  },
  {
   "cell_type": "markdown",
   "metadata": {},
   "source": [
    "Displaying the punishment keyword:"
   ]
  },
  {
   "cell_type": "code",
   "execution_count": 18,
   "metadata": {},
   "outputs": [
    {
     "data": {
      "text/plain": [
       "{'caution',\n",
       " 'community',\n",
       " 'compensation',\n",
       " 'conditional',\n",
       " 'deprived',\n",
       " 'discharge',\n",
       " 'drugs',\n",
       " 'fined',\n",
       " 'given',\n",
       " 'offender',\n",
       " 'ordered',\n",
       " 'pay',\n",
       " 'possession',\n",
       " 'prison',\n",
       " 'property',\n",
       " 'sent',\n",
       " 'sentence',\n",
       " 'suspended',\n",
       " 'warning'}"
      ]
     },
     "execution_count": 18,
     "metadata": {},
     "output_type": "execute_result"
    }
   ],
   "source": [
    "punish_keywords = set(keywords)\n",
    "punish_keywords"
   ]
  },
  {
   "cell_type": "markdown",
   "metadata": {},
   "source": [
    "Then, we remove the special characters or punctuation and finally, every word is reduced to his root through **stemming**, for being able to match wrongly tiped words.\n",
    "\n",
    "In information retrieval, stemming is the process of reducing inflected words to their word stem, base or root form. The proposal is map words to the same stem, which is not necessarily identified with a morphological valid root."
   ]
  },
  {
   "cell_type": "code",
   "execution_count": 19,
   "metadata": {},
   "outputs": [],
   "source": [
    "remove_punct_dict = dict((ord(punct), None) for punct in string.punctuation)\n",
    "stemmer = nltk.stem.porter.PorterStemmer()"
   ]
  },
  {
   "cell_type": "markdown",
   "metadata": {},
   "source": [
    "Displaying the list of punishment stems:"
   ]
  },
  {
   "cell_type": "code",
   "execution_count": 20,
   "metadata": {},
   "outputs": [],
   "source": [
    "punish_stems = [stemmer.stem(word.translate(remove_punct_dict)) for word in punish_keywords]"
   ]
  },
  {
   "cell_type": "code",
   "execution_count": 21,
   "metadata": {},
   "outputs": [
    {
     "data": {
      "text/plain": [
       "['possess',\n",
       " 'properti',\n",
       " 'commun',\n",
       " 'depriv',\n",
       " 'prison',\n",
       " 'condit',\n",
       " 'compens',\n",
       " 'fine',\n",
       " 'sent',\n",
       " 'caution',\n",
       " 'pay',\n",
       " 'warn',\n",
       " 'order',\n",
       " 'discharg',\n",
       " 'offend',\n",
       " 'sentenc',\n",
       " 'drug',\n",
       " 'given',\n",
       " 'suspend']"
      ]
     },
     "execution_count": 21,
     "metadata": {},
     "output_type": "execute_result"
    }
   ],
   "source": [
    "punish_stems"
   ]
  },
  {
   "cell_type": "markdown",
   "metadata": {},
   "source": [
    "Defining the `classify_punishment` function to determine if the outcome correspond to an effective punishment or not:"
   ]
  },
  {
   "cell_type": "code",
   "execution_count": 22,
   "metadata": {},
   "outputs": [],
   "source": [
    "def classify_punishment(outcome):\n",
    "    word_list = [word.lower() for word in word_tokenize(outcome)]\n",
    "    outcome_set = set([stemmer.stem(word.translate(remove_punct_dict)) for word in word_list])\n",
    "    coincidence = len(outcome_set.intersection(punish_stems))\n",
    "    if coincidence >= 2:\n",
    "        return 1\n",
    "    else:\n",
    "        return 0"
   ]
  },
  {
   "cell_type": "markdown",
   "metadata": {},
   "source": [
    "Applying the method to the dataset, the results are stored in the column `punishment`:"
   ]
  },
  {
   "cell_type": "code",
   "execution_count": 23,
   "metadata": {},
   "outputs": [],
   "source": [
    "df['punishment'] = df['Last outcome category'].apply(classify_punishment)"
   ]
  },
  {
   "cell_type": "code",
   "execution_count": 24,
   "metadata": {},
   "outputs": [
    {
     "data": {
      "text/html": [
       "<div>\n",
       "<style scoped>\n",
       "    .dataframe tbody tr th:only-of-type {\n",
       "        vertical-align: middle;\n",
       "    }\n",
       "\n",
       "    .dataframe tbody tr th {\n",
       "        vertical-align: top;\n",
       "    }\n",
       "\n",
       "    .dataframe thead th {\n",
       "        text-align: right;\n",
       "    }\n",
       "</style>\n",
       "<table border=\"1\" class=\"dataframe\">\n",
       "  <thead>\n",
       "    <tr style=\"text-align: right;\">\n",
       "      <th></th>\n",
       "      <th>Crime ID</th>\n",
       "      <th>Month</th>\n",
       "      <th>Reported by</th>\n",
       "      <th>Falls within</th>\n",
       "      <th>Longitude</th>\n",
       "      <th>Latitude</th>\n",
       "      <th>Location</th>\n",
       "      <th>LSOA code</th>\n",
       "      <th>LSOA name</th>\n",
       "      <th>Crime type</th>\n",
       "      <th>Last outcome category</th>\n",
       "      <th>punishment</th>\n",
       "    </tr>\n",
       "  </thead>\n",
       "  <tbody>\n",
       "    <tr>\n",
       "      <th>2</th>\n",
       "      <td>4b7781de32fc30b4a5f78720f47aa5b89c216967039eee...</td>\n",
       "      <td>2019-03</td>\n",
       "      <td>Hampshire Constabulary</td>\n",
       "      <td>Hampshire Constabulary</td>\n",
       "      <td>-1.144842</td>\n",
       "      <td>51.350275</td>\n",
       "      <td>On or near Denmead Road</td>\n",
       "      <td>E01022553</td>\n",
       "      <td>Basingstoke and Deane 001A</td>\n",
       "      <td>Burglary</td>\n",
       "      <td>Investigation complete; no suspect identified</td>\n",
       "      <td>0</td>\n",
       "    </tr>\n",
       "    <tr>\n",
       "      <th>3</th>\n",
       "      <td>8dfe557629cfd86e61d8b9fd5d4381b17a5fd63464092b...</td>\n",
       "      <td>2019-03</td>\n",
       "      <td>Hampshire Constabulary</td>\n",
       "      <td>Hampshire Constabulary</td>\n",
       "      <td>-1.145593</td>\n",
       "      <td>51.354669</td>\n",
       "      <td>On or near Silverdale Road</td>\n",
       "      <td>E01022553</td>\n",
       "      <td>Basingstoke and Deane 001A</td>\n",
       "      <td>Violence and sexual offences</td>\n",
       "      <td>Unable to prosecute suspect</td>\n",
       "      <td>0</td>\n",
       "    </tr>\n",
       "    <tr>\n",
       "      <th>4</th>\n",
       "      <td>f67410fb5f97ede46d0a6b1500ebcb4fb8085366df48de...</td>\n",
       "      <td>2019-03</td>\n",
       "      <td>Hampshire Constabulary</td>\n",
       "      <td>Hampshire Constabulary</td>\n",
       "      <td>-1.155230</td>\n",
       "      <td>51.353821</td>\n",
       "      <td>On or near Huntsmoor Road</td>\n",
       "      <td>E01022554</td>\n",
       "      <td>Basingstoke and Deane 001B</td>\n",
       "      <td>Criminal damage and arson</td>\n",
       "      <td>Investigation complete; no suspect identified</td>\n",
       "      <td>0</td>\n",
       "    </tr>\n",
       "    <tr>\n",
       "      <th>5</th>\n",
       "      <td>3f2fb3cbac2e13d1be9cdc3a8c3f0f34d6988b180f3459...</td>\n",
       "      <td>2019-03</td>\n",
       "      <td>Hampshire Constabulary</td>\n",
       "      <td>Hampshire Constabulary</td>\n",
       "      <td>-1.157668</td>\n",
       "      <td>51.354819</td>\n",
       "      <td>On or near Wigmore Road</td>\n",
       "      <td>E01022554</td>\n",
       "      <td>Basingstoke and Deane 001B</td>\n",
       "      <td>Criminal damage and arson</td>\n",
       "      <td>Investigation complete; no suspect identified</td>\n",
       "      <td>0</td>\n",
       "    </tr>\n",
       "    <tr>\n",
       "      <th>6</th>\n",
       "      <td>a75c95f95d0db3ecb0f9fc55feb0d28aeb319735941e2c...</td>\n",
       "      <td>2019-03</td>\n",
       "      <td>Hampshire Constabulary</td>\n",
       "      <td>Hampshire Constabulary</td>\n",
       "      <td>-1.166627</td>\n",
       "      <td>51.354901</td>\n",
       "      <td>On or near Ash Lane</td>\n",
       "      <td>E01022554</td>\n",
       "      <td>Basingstoke and Deane 001B</td>\n",
       "      <td>Other theft</td>\n",
       "      <td>Investigation complete; no suspect identified</td>\n",
       "      <td>0</td>\n",
       "    </tr>\n",
       "  </tbody>\n",
       "</table>\n",
       "</div>"
      ],
      "text/plain": [
       "                                            Crime ID    Month  \\\n",
       "2  4b7781de32fc30b4a5f78720f47aa5b89c216967039eee...  2019-03   \n",
       "3  8dfe557629cfd86e61d8b9fd5d4381b17a5fd63464092b...  2019-03   \n",
       "4  f67410fb5f97ede46d0a6b1500ebcb4fb8085366df48de...  2019-03   \n",
       "5  3f2fb3cbac2e13d1be9cdc3a8c3f0f34d6988b180f3459...  2019-03   \n",
       "6  a75c95f95d0db3ecb0f9fc55feb0d28aeb319735941e2c...  2019-03   \n",
       "\n",
       "              Reported by            Falls within  Longitude   Latitude  \\\n",
       "2  Hampshire Constabulary  Hampshire Constabulary  -1.144842  51.350275   \n",
       "3  Hampshire Constabulary  Hampshire Constabulary  -1.145593  51.354669   \n",
       "4  Hampshire Constabulary  Hampshire Constabulary  -1.155230  51.353821   \n",
       "5  Hampshire Constabulary  Hampshire Constabulary  -1.157668  51.354819   \n",
       "6  Hampshire Constabulary  Hampshire Constabulary  -1.166627  51.354901   \n",
       "\n",
       "                     Location  LSOA code                   LSOA name  \\\n",
       "2     On or near Denmead Road  E01022553  Basingstoke and Deane 001A   \n",
       "3  On or near Silverdale Road  E01022553  Basingstoke and Deane 001A   \n",
       "4   On or near Huntsmoor Road  E01022554  Basingstoke and Deane 001B   \n",
       "5     On or near Wigmore Road  E01022554  Basingstoke and Deane 001B   \n",
       "6         On or near Ash Lane  E01022554  Basingstoke and Deane 001B   \n",
       "\n",
       "                     Crime type  \\\n",
       "2                      Burglary   \n",
       "3  Violence and sexual offences   \n",
       "4     Criminal damage and arson   \n",
       "5     Criminal damage and arson   \n",
       "6                   Other theft   \n",
       "\n",
       "                           Last outcome category  punishment  \n",
       "2  Investigation complete; no suspect identified           0  \n",
       "3                    Unable to prosecute suspect           0  \n",
       "4  Investigation complete; no suspect identified           0  \n",
       "5  Investigation complete; no suspect identified           0  \n",
       "6  Investigation complete; no suspect identified           0  "
      ]
     },
     "execution_count": 24,
     "metadata": {},
     "output_type": "execute_result"
    }
   ],
   "source": [
    "df.head()"
   ]
  },
  {
   "cell_type": "code",
   "execution_count": 25,
   "metadata": {},
   "outputs": [
    {
     "data": {
      "text/html": [
       "<div>\n",
       "<style scoped>\n",
       "    .dataframe tbody tr th:only-of-type {\n",
       "        vertical-align: middle;\n",
       "    }\n",
       "\n",
       "    .dataframe tbody tr th {\n",
       "        vertical-align: top;\n",
       "    }\n",
       "\n",
       "    .dataframe thead th {\n",
       "        text-align: right;\n",
       "    }\n",
       "</style>\n",
       "<table border=\"1\" class=\"dataframe\">\n",
       "  <thead>\n",
       "    <tr style=\"text-align: right;\">\n",
       "      <th></th>\n",
       "      <th>Crime ID</th>\n",
       "      <th>Month</th>\n",
       "      <th>Reported by</th>\n",
       "      <th>Falls within</th>\n",
       "      <th>Longitude</th>\n",
       "      <th>Latitude</th>\n",
       "      <th>Location</th>\n",
       "      <th>LSOA code</th>\n",
       "      <th>LSOA name</th>\n",
       "      <th>Crime type</th>\n",
       "      <th>Last outcome category</th>\n",
       "      <th>punishment</th>\n",
       "    </tr>\n",
       "  </thead>\n",
       "  <tbody>\n",
       "    <tr>\n",
       "      <th>78</th>\n",
       "      <td>14fec825996b563291dc971e8c4adbf026ea5dfadb82e7...</td>\n",
       "      <td>2019-03</td>\n",
       "      <td>Hampshire Constabulary</td>\n",
       "      <td>Hampshire Constabulary</td>\n",
       "      <td>-1.335400</td>\n",
       "      <td>51.346718</td>\n",
       "      <td>On or near Pound Lane</td>\n",
       "      <td>E01022489</td>\n",
       "      <td>Basingstoke and Deane 003B</td>\n",
       "      <td>Violence and sexual offences</td>\n",
       "      <td>Offender given a caution</td>\n",
       "      <td>1</td>\n",
       "    </tr>\n",
       "    <tr>\n",
       "      <th>148</th>\n",
       "      <td>2acb8489189c01d7ee48275de61349eba6914a9b41ba46...</td>\n",
       "      <td>2019-03</td>\n",
       "      <td>Hampshire Constabulary</td>\n",
       "      <td>Hampshire Constabulary</td>\n",
       "      <td>-1.049255</td>\n",
       "      <td>51.301467</td>\n",
       "      <td>On or near Rowner Crescent</td>\n",
       "      <td>E01022496</td>\n",
       "      <td>Basingstoke and Deane 006B</td>\n",
       "      <td>Violence and sexual offences</td>\n",
       "      <td>Offender given a caution</td>\n",
       "      <td>1</td>\n",
       "    </tr>\n",
       "    <tr>\n",
       "      <th>228</th>\n",
       "      <td>7d381892579a89a8d92d412eca573a5774ec4fca5bbc7f...</td>\n",
       "      <td>2019-03</td>\n",
       "      <td>Hampshire Constabulary</td>\n",
       "      <td>Hampshire Constabulary</td>\n",
       "      <td>-1.098325</td>\n",
       "      <td>51.281066</td>\n",
       "      <td>On or near Tintern Close</td>\n",
       "      <td>E01022543</td>\n",
       "      <td>Basingstoke and Deane 007F</td>\n",
       "      <td>Violence and sexual offences</td>\n",
       "      <td>Offender given a caution</td>\n",
       "      <td>1</td>\n",
       "    </tr>\n",
       "    <tr>\n",
       "      <th>338</th>\n",
       "      <td>f558e324e68a6cb3dbd9190ba395785c51b904ddec5cea...</td>\n",
       "      <td>2019-03</td>\n",
       "      <td>Hampshire Constabulary</td>\n",
       "      <td>Hampshire Constabulary</td>\n",
       "      <td>-1.078904</td>\n",
       "      <td>51.276410</td>\n",
       "      <td>On or near Coleman Close</td>\n",
       "      <td>E01022523</td>\n",
       "      <td>Basingstoke and Deane 008D</td>\n",
       "      <td>Violence and sexual offences</td>\n",
       "      <td>Offender given a caution</td>\n",
       "      <td>1</td>\n",
       "    </tr>\n",
       "    <tr>\n",
       "      <th>487</th>\n",
       "      <td>5b196880152653518c2dc40359ebfb9cb02543a987232c...</td>\n",
       "      <td>2019-03</td>\n",
       "      <td>Hampshire Constabulary</td>\n",
       "      <td>Hampshire Constabulary</td>\n",
       "      <td>-1.073094</td>\n",
       "      <td>51.256644</td>\n",
       "      <td>On or near Renoir Close</td>\n",
       "      <td>E01022506</td>\n",
       "      <td>Basingstoke and Deane 011C</td>\n",
       "      <td>Violence and sexual offences</td>\n",
       "      <td>Offender given a caution</td>\n",
       "      <td>1</td>\n",
       "    </tr>\n",
       "  </tbody>\n",
       "</table>\n",
       "</div>"
      ],
      "text/plain": [
       "                                              Crime ID    Month  \\\n",
       "78   14fec825996b563291dc971e8c4adbf026ea5dfadb82e7...  2019-03   \n",
       "148  2acb8489189c01d7ee48275de61349eba6914a9b41ba46...  2019-03   \n",
       "228  7d381892579a89a8d92d412eca573a5774ec4fca5bbc7f...  2019-03   \n",
       "338  f558e324e68a6cb3dbd9190ba395785c51b904ddec5cea...  2019-03   \n",
       "487  5b196880152653518c2dc40359ebfb9cb02543a987232c...  2019-03   \n",
       "\n",
       "                Reported by            Falls within  Longitude   Latitude  \\\n",
       "78   Hampshire Constabulary  Hampshire Constabulary  -1.335400  51.346718   \n",
       "148  Hampshire Constabulary  Hampshire Constabulary  -1.049255  51.301467   \n",
       "228  Hampshire Constabulary  Hampshire Constabulary  -1.098325  51.281066   \n",
       "338  Hampshire Constabulary  Hampshire Constabulary  -1.078904  51.276410   \n",
       "487  Hampshire Constabulary  Hampshire Constabulary  -1.073094  51.256644   \n",
       "\n",
       "                       Location  LSOA code                   LSOA name  \\\n",
       "78        On or near Pound Lane  E01022489  Basingstoke and Deane 003B   \n",
       "148  On or near Rowner Crescent  E01022496  Basingstoke and Deane 006B   \n",
       "228    On or near Tintern Close  E01022543  Basingstoke and Deane 007F   \n",
       "338    On or near Coleman Close  E01022523  Basingstoke and Deane 008D   \n",
       "487     On or near Renoir Close  E01022506  Basingstoke and Deane 011C   \n",
       "\n",
       "                       Crime type     Last outcome category  punishment  \n",
       "78   Violence and sexual offences  Offender given a caution           1  \n",
       "148  Violence and sexual offences  Offender given a caution           1  \n",
       "228  Violence and sexual offences  Offender given a caution           1  \n",
       "338  Violence and sexual offences  Offender given a caution           1  \n",
       "487  Violence and sexual offences  Offender given a caution           1  "
      ]
     },
     "execution_count": 25,
     "metadata": {},
     "output_type": "execute_result"
    }
   ],
   "source": [
    "df[df.punishment == 1].head()"
   ]
  },
  {
   "cell_type": "markdown",
   "metadata": {},
   "source": [
    "### 1. Distribution of effective punishment"
   ]
  },
  {
   "cell_type": "code",
   "execution_count": 26,
   "metadata": {},
   "outputs": [
    {
     "data": {
      "text/html": [
       "<div>\n",
       "<style scoped>\n",
       "    .dataframe tbody tr th:only-of-type {\n",
       "        vertical-align: middle;\n",
       "    }\n",
       "\n",
       "    .dataframe tbody tr th {\n",
       "        vertical-align: top;\n",
       "    }\n",
       "\n",
       "    .dataframe thead th {\n",
       "        text-align: right;\n",
       "    }\n",
       "</style>\n",
       "<table border=\"1\" class=\"dataframe\">\n",
       "  <thead>\n",
       "    <tr style=\"text-align: right;\">\n",
       "      <th></th>\n",
       "      <th>number_crimes</th>\n",
       "      <th>punishment</th>\n",
       "    </tr>\n",
       "  </thead>\n",
       "  <tbody>\n",
       "    <tr>\n",
       "      <th>0</th>\n",
       "      <td>9712</td>\n",
       "      <td>0</td>\n",
       "    </tr>\n",
       "    <tr>\n",
       "      <th>1</th>\n",
       "      <td>338</td>\n",
       "      <td>1</td>\n",
       "    </tr>\n",
       "  </tbody>\n",
       "</table>\n",
       "</div>"
      ],
      "text/plain": [
       "   number_crimes  punishment\n",
       "0           9712           0\n",
       "1            338           1"
      ]
     },
     "execution_count": 26,
     "metadata": {},
     "output_type": "execute_result"
    }
   ],
   "source": [
    "dist_punishment = df.groupby('punishment').count().reset_index().rename(columns={'Crime ID': 'number_crimes'}).loc[:, ['number_crimes', 'punishment']]\n",
    "dist_punishment"
   ]
  },
  {
   "cell_type": "code",
   "execution_count": 27,
   "metadata": {},
   "outputs": [
    {
     "data": {
      "text/html": [
       "<div>\n",
       "<style scoped>\n",
       "    .dataframe tbody tr th:only-of-type {\n",
       "        vertical-align: middle;\n",
       "    }\n",
       "\n",
       "    .dataframe tbody tr th {\n",
       "        vertical-align: top;\n",
       "    }\n",
       "\n",
       "    .dataframe thead th {\n",
       "        text-align: right;\n",
       "    }\n",
       "</style>\n",
       "<table border=\"1\" class=\"dataframe\">\n",
       "  <thead>\n",
       "    <tr style=\"text-align: right;\">\n",
       "      <th></th>\n",
       "      <th>number_crimes</th>\n",
       "      <th>punishment</th>\n",
       "      <th>% total crimes</th>\n",
       "    </tr>\n",
       "  </thead>\n",
       "  <tbody>\n",
       "    <tr>\n",
       "      <th>0</th>\n",
       "      <td>9712</td>\n",
       "      <td>0</td>\n",
       "      <td>96.636816</td>\n",
       "    </tr>\n",
       "    <tr>\n",
       "      <th>1</th>\n",
       "      <td>338</td>\n",
       "      <td>1</td>\n",
       "      <td>3.363184</td>\n",
       "    </tr>\n",
       "  </tbody>\n",
       "</table>\n",
       "</div>"
      ],
      "text/plain": [
       "   number_crimes  punishment  % total crimes\n",
       "0           9712           0       96.636816\n",
       "1            338           1        3.363184"
      ]
     },
     "execution_count": 27,
     "metadata": {},
     "output_type": "execute_result"
    }
   ],
   "source": [
    "dist_punishment['% total crimes'] = (dist_punishment.number_crimes/dist_punishment.number_crimes.sum())*100\n",
    "dist_punishment"
   ]
  },
  {
   "cell_type": "code",
   "execution_count": 28,
   "metadata": {},
   "outputs": [
    {
     "data": {
      "image/png": "[encoded data removed]",
      "text/plain": [
       "<Figure size 468x468 with 1 Axes>"
      ]
     },
     "metadata": {},
     "output_type": "display_data"
    }
   ],
   "source": [
    "sns.set(style='white')\n",
    "\n",
    "_ = plt.figure(figsize=(6.5, 6.5))\n",
    "_ = sns.barplot(x='punishment', y='number_crimes', data=dist_punishment)\n",
    "_ = plt.title('Distribution of punishment', size=20)\n",
    "_ = plt.xticks((0, 1), ('No', 'Yes'), color='k', size=20)\n",
    "_ = plt.xlabel('Punishment', size=16)\n",
    "_ = plt.ylabel('Number of crimes', size=16)"
   ]
  },
  {
   "cell_type": "markdown",
   "metadata": {},
   "source": [
    "Only the 3.36% of the cases have an effective punishment. Clearly, we are facing an unbalanced classification problem."
   ]
  },
  {
   "cell_type": "markdown",
   "metadata": {},
   "source": [
    "### 2. Types of crimes"
   ]
  },
  {
   "cell_type": "code",
   "execution_count": 29,
   "metadata": {},
   "outputs": [],
   "source": [
    "dist_crimes = df.groupby('Crime type').count().reset_index().rename(columns={'Crime ID': 'number_crimes'}).loc[:, ['Crime type', 'number_crimes']]\n",
    "dist_crimes.sort_values(by=['number_crimes'], ascending=False, inplace=True)"
   ]
  },
  {
   "cell_type": "code",
   "execution_count": 30,
   "metadata": {},
   "outputs": [
    {
     "data": {
      "text/html": [
       "<div>\n",
       "<style scoped>\n",
       "    .dataframe tbody tr th:only-of-type {\n",
       "        vertical-align: middle;\n",
       "    }\n",
       "\n",
       "    .dataframe tbody tr th {\n",
       "        vertical-align: top;\n",
       "    }\n",
       "\n",
       "    .dataframe thead th {\n",
       "        text-align: right;\n",
       "    }\n",
       "</style>\n",
       "<table border=\"1\" class=\"dataframe\">\n",
       "  <thead>\n",
       "    <tr style=\"text-align: right;\">\n",
       "      <th></th>\n",
       "      <th>Crime type</th>\n",
       "      <th>number_crimes</th>\n",
       "    </tr>\n",
       "  </thead>\n",
       "  <tbody>\n",
       "    <tr>\n",
       "      <th>12</th>\n",
       "      <td>Violence and sexual offences</td>\n",
       "      <td>3895</td>\n",
       "    </tr>\n",
       "    <tr>\n",
       "      <th>2</th>\n",
       "      <td>Criminal damage and arson</td>\n",
       "      <td>1284</td>\n",
       "    </tr>\n",
       "    <tr>\n",
       "      <th>7</th>\n",
       "      <td>Public order</td>\n",
       "      <td>949</td>\n",
       "    </tr>\n",
       "    <tr>\n",
       "      <th>5</th>\n",
       "      <td>Other theft</td>\n",
       "      <td>899</td>\n",
       "    </tr>\n",
       "    <tr>\n",
       "      <th>1</th>\n",
       "      <td>Burglary</td>\n",
       "      <td>832</td>\n",
       "    </tr>\n",
       "    <tr>\n",
       "      <th>11</th>\n",
       "      <td>Vehicle crime</td>\n",
       "      <td>809</td>\n",
       "    </tr>\n",
       "    <tr>\n",
       "      <th>9</th>\n",
       "      <td>Shoplifting</td>\n",
       "      <td>715</td>\n",
       "    </tr>\n",
       "    <tr>\n",
       "      <th>0</th>\n",
       "      <td>Bicycle theft</td>\n",
       "      <td>219</td>\n",
       "    </tr>\n",
       "    <tr>\n",
       "      <th>4</th>\n",
       "      <td>Other crime</td>\n",
       "      <td>119</td>\n",
       "    </tr>\n",
       "    <tr>\n",
       "      <th>8</th>\n",
       "      <td>Robbery</td>\n",
       "      <td>87</td>\n",
       "    </tr>\n",
       "    <tr>\n",
       "      <th>6</th>\n",
       "      <td>Possession of weapons</td>\n",
       "      <td>85</td>\n",
       "    </tr>\n",
       "    <tr>\n",
       "      <th>3</th>\n",
       "      <td>Drugs</td>\n",
       "      <td>79</td>\n",
       "    </tr>\n",
       "    <tr>\n",
       "      <th>10</th>\n",
       "      <td>Theft from the person</td>\n",
       "      <td>78</td>\n",
       "    </tr>\n",
       "  </tbody>\n",
       "</table>\n",
       "</div>"
      ],
      "text/plain": [
       "                      Crime type  number_crimes\n",
       "12  Violence and sexual offences           3895\n",
       "2      Criminal damage and arson           1284\n",
       "7                   Public order            949\n",
       "5                    Other theft            899\n",
       "1                       Burglary            832\n",
       "11                 Vehicle crime            809\n",
       "9                    Shoplifting            715\n",
       "0                  Bicycle theft            219\n",
       "4                    Other crime            119\n",
       "8                        Robbery             87\n",
       "6          Possession of weapons             85\n",
       "3                          Drugs             79\n",
       "10         Theft from the person             78"
      ]
     },
     "execution_count": 30,
     "metadata": {},
     "output_type": "execute_result"
    }
   ],
   "source": [
    "dist_crimes"
   ]
  },
  {
   "cell_type": "code",
   "execution_count": 31,
   "metadata": {},
   "outputs": [
    {
     "data": {
      "text/html": [
       "<div>\n",
       "<style scoped>\n",
       "    .dataframe tbody tr th:only-of-type {\n",
       "        vertical-align: middle;\n",
       "    }\n",
       "\n",
       "    .dataframe tbody tr th {\n",
       "        vertical-align: top;\n",
       "    }\n",
       "\n",
       "    .dataframe thead th {\n",
       "        text-align: right;\n",
       "    }\n",
       "</style>\n",
       "<table border=\"1\" class=\"dataframe\">\n",
       "  <thead>\n",
       "    <tr style=\"text-align: right;\">\n",
       "      <th></th>\n",
       "      <th>Crime type</th>\n",
       "      <th>number_crimes</th>\n",
       "      <th>% total crimes</th>\n",
       "    </tr>\n",
       "  </thead>\n",
       "  <tbody>\n",
       "    <tr>\n",
       "      <th>12</th>\n",
       "      <td>Violence and sexual offences</td>\n",
       "      <td>3895</td>\n",
       "      <td>38.756219</td>\n",
       "    </tr>\n",
       "    <tr>\n",
       "      <th>2</th>\n",
       "      <td>Criminal damage and arson</td>\n",
       "      <td>1284</td>\n",
       "      <td>12.776119</td>\n",
       "    </tr>\n",
       "    <tr>\n",
       "      <th>7</th>\n",
       "      <td>Public order</td>\n",
       "      <td>949</td>\n",
       "      <td>9.442786</td>\n",
       "    </tr>\n",
       "    <tr>\n",
       "      <th>5</th>\n",
       "      <td>Other theft</td>\n",
       "      <td>899</td>\n",
       "      <td>8.945274</td>\n",
       "    </tr>\n",
       "    <tr>\n",
       "      <th>1</th>\n",
       "      <td>Burglary</td>\n",
       "      <td>832</td>\n",
       "      <td>8.278607</td>\n",
       "    </tr>\n",
       "    <tr>\n",
       "      <th>11</th>\n",
       "      <td>Vehicle crime</td>\n",
       "      <td>809</td>\n",
       "      <td>8.049751</td>\n",
       "    </tr>\n",
       "    <tr>\n",
       "      <th>9</th>\n",
       "      <td>Shoplifting</td>\n",
       "      <td>715</td>\n",
       "      <td>7.114428</td>\n",
       "    </tr>\n",
       "    <tr>\n",
       "      <th>0</th>\n",
       "      <td>Bicycle theft</td>\n",
       "      <td>219</td>\n",
       "      <td>2.179104</td>\n",
       "    </tr>\n",
       "    <tr>\n",
       "      <th>4</th>\n",
       "      <td>Other crime</td>\n",
       "      <td>119</td>\n",
       "      <td>1.184080</td>\n",
       "    </tr>\n",
       "    <tr>\n",
       "      <th>8</th>\n",
       "      <td>Robbery</td>\n",
       "      <td>87</td>\n",
       "      <td>0.865672</td>\n",
       "    </tr>\n",
       "    <tr>\n",
       "      <th>6</th>\n",
       "      <td>Possession of weapons</td>\n",
       "      <td>85</td>\n",
       "      <td>0.845771</td>\n",
       "    </tr>\n",
       "    <tr>\n",
       "      <th>3</th>\n",
       "      <td>Drugs</td>\n",
       "      <td>79</td>\n",
       "      <td>0.786070</td>\n",
       "    </tr>\n",
       "    <tr>\n",
       "      <th>10</th>\n",
       "      <td>Theft from the person</td>\n",
       "      <td>78</td>\n",
       "      <td>0.776119</td>\n",
       "    </tr>\n",
       "  </tbody>\n",
       "</table>\n",
       "</div>"
      ],
      "text/plain": [
       "                      Crime type  number_crimes  % total crimes\n",
       "12  Violence and sexual offences           3895       38.756219\n",
       "2      Criminal damage and arson           1284       12.776119\n",
       "7                   Public order            949        9.442786\n",
       "5                    Other theft            899        8.945274\n",
       "1                       Burglary            832        8.278607\n",
       "11                 Vehicle crime            809        8.049751\n",
       "9                    Shoplifting            715        7.114428\n",
       "0                  Bicycle theft            219        2.179104\n",
       "4                    Other crime            119        1.184080\n",
       "8                        Robbery             87        0.865672\n",
       "6          Possession of weapons             85        0.845771\n",
       "3                          Drugs             79        0.786070\n",
       "10         Theft from the person             78        0.776119"
      ]
     },
     "execution_count": 31,
     "metadata": {},
     "output_type": "execute_result"
    }
   ],
   "source": [
    "dist_crimes['% total crimes'] = (dist_crimes['number_crimes']/dist_crimes.number_crimes.sum())*100\n",
    "dist_crimes"
   ]
  },
  {
   "cell_type": "code",
   "execution_count": 32,
   "metadata": {},
   "outputs": [
    {
     "data": {
      "image/png": "[encoded data removed]",
      "text/plain": [
       "<Figure size 1476x468 with 1 Axes>"
      ]
     },
     "metadata": {},
     "output_type": "display_data"
    }
   ],
   "source": [
    "sns.set(style='white')\n",
    "\n",
    "_ = plt.figure(figsize=(20.5, 6.5))\n",
    "_ = sns.barplot(x='Crime type', y='number_crimes', data=dist_crimes, palette='YlGnBu_r')\n",
    "_ = plt.title('Distribution of types of crimes', size=20)\n",
    "_ = plt.xticks((0, 1, 2, 3, 4, 5, 6, 7, 8, 9, 10, 11, 12), \n",
    "               ('Sexual offenses', \n",
    "                'Criminal',\n",
    "                'Public order',\n",
    "                'Shoplifting',\n",
    "                'Other theft',\n",
    "                'Burglary',\n",
    "                'Vehicle crime',\n",
    "                'Drugs',\n",
    "                'Bicycle theft',\n",
    "                'Other',\n",
    "                'Weapons',\n",
    "                'Robbery',  \n",
    "                'Theft'\n",
    "                ), color='k', size=14)\n",
    "_ = plt.xlabel('Type of crime', size=16)\n",
    "_ = plt.ylabel('Number of crimes', size=16)"
   ]
  },
  {
   "cell_type": "markdown",
   "metadata": {},
   "source": [
    "38.75% of cases are related to violence and sexual offense, followed by 12.77% of cases about criminal damage and arson. Then, 9.44% are related to public disorder. Shoplifting, thefts, robberies are in different categories. How mauch different are the sentences depending on the type of case?\n",
    "\n",
    "According to the [UK Sentencing Council](https://www.sentencingcouncil.org.uk/blog/post/what-is-the-difference-between-theft-robbery-and-burglary/), the difference between theft, robbery and burglary are the following:\n",
    "\n",
    "In legislation 'a person is guilty of **theft** if he dishonestly appropriates property belonging to another with the intention of permanently depriving the other of it.' This could mean someone stealing from a shop, picking someone’s pocket, stealing a bicycle or car, an employee stealing from their workplace or a guest stealing something from a house during a party. The **maximum sentence for theft is seven years**.\n",
    "\n",
    "The definition of robbery is: 'A person is guilty of robbery if he steals, and immediately before or at the time of doing so, and in order to do so, he uses force on any person or puts or seeks to put any person of being then and there subjected to force'. This can include a street mugging or robbery of a shop, business or security vehicle. Robbery has a violent nature and **because this is more serious than *theft*, the maximum sentence is life.**\n",
    "\n",
    "There are **three types of burglary** recognised in law:\n",
    "\n",
    "#### 1. Domestic burglary – Burglary of a dwelling\n",
    "\n",
    "This type of burglary occurs when an offender enters, as per the definition above, a building which people live in. This generally refers to houses or flats. It also includes boats and vehicles in which people live, such as caravans, and can include domestic outhouses or garages if they are linked to a house. The maximum sentence is 14 years.\n",
    "\n",
    "#### 2. Non-domestic burglary – Burglary of premises other than a dwelling – **Shoplifting**\n",
    "\n",
    "This type of burglary relates to buildings which are not lived in, such as shops or offices.\n",
    "The maximum sentence is 10 years.\n",
    "\n",
    "Burglary can be committed when a person is permitted to enter a home or other premises but then goes to a room or area where they are not permitted to be and steals something.  For example, if person steals from items on display in a shop that would be theft, but if they go into a storeroom and steal something, that would be burglary.\n",
    "\n",
    "#### 3. Aggravated burglary\n",
    "\n",
    "This offence is committed when, at the time of a burglary, the offender has with him any firearm or imitation firearm, any weapon of offence or any explosive.\n",
    "\n",
    "Where a weapon is used to attack someone at the property in the course of the burglary the offender would also normally be charged with an assault offence, or alternatively they could be charged with robbery. The maximum sentence for aggravated burglary is life."
   ]
  },
  {
   "cell_type": "markdown",
   "metadata": {},
   "source": [
    "### 3. Crime and punishment\n",
    "\n",
    "*\"What do you think, would not one tiny crime be wiped out by thousands of good deeds?\"* (Crime and Punishment, 1866).\n",
    "\n",
    "Dostoievky said in Crime and punishment, which is one of his masterpieces and it is considered the first great novel of his \"mature\" period of writing, that *\"a hundred suspicions don't make a proof\"*. Certainly, some cases take more time of investigation and analysis before they get the proofs that are required to stablish level and type of punishment. If the proofs are unavailable, the cases finish with the following style of outcome: **Investigation complete; no suspect identified**,**Unable to prosecute suspect**, **Court case unable to proceed** as some examples that we found on this dataset.  Let's inspect which kind of crimes are associated with more effective punishments."
   ]
  },
  {
   "cell_type": "code",
   "execution_count": 33,
   "metadata": {},
   "outputs": [],
   "source": [
    "dist_crimesPunish = df.groupby(['Crime type', 'punishment']).count().reset_index().rename(columns={'Crime ID': 'number_crimes'}).loc[:, ['Crime type', 'number_crimes', 'punishment']]\n",
    "dist_crimesPunish.sort_values(by=['Crime type', 'punishment'], inplace=True)"
   ]
  },
  {
   "cell_type": "code",
   "execution_count": 34,
   "metadata": {},
   "outputs": [
    {
     "data": {
      "text/html": [
       "<div>\n",
       "<style scoped>\n",
       "    .dataframe tbody tr th:only-of-type {\n",
       "        vertical-align: middle;\n",
       "    }\n",
       "\n",
       "    .dataframe tbody tr th {\n",
       "        vertical-align: top;\n",
       "    }\n",
       "\n",
       "    .dataframe thead th {\n",
       "        text-align: right;\n",
       "    }\n",
       "</style>\n",
       "<table border=\"1\" class=\"dataframe\">\n",
       "  <thead>\n",
       "    <tr style=\"text-align: right;\">\n",
       "      <th></th>\n",
       "      <th>Crime type</th>\n",
       "      <th>number_crimes</th>\n",
       "      <th>punishment</th>\n",
       "    </tr>\n",
       "  </thead>\n",
       "  <tbody>\n",
       "    <tr>\n",
       "      <th>0</th>\n",
       "      <td>Bicycle theft</td>\n",
       "      <td>217</td>\n",
       "      <td>0</td>\n",
       "    </tr>\n",
       "    <tr>\n",
       "      <th>1</th>\n",
       "      <td>Bicycle theft</td>\n",
       "      <td>2</td>\n",
       "      <td>1</td>\n",
       "    </tr>\n",
       "    <tr>\n",
       "      <th>2</th>\n",
       "      <td>Burglary</td>\n",
       "      <td>830</td>\n",
       "      <td>0</td>\n",
       "    </tr>\n",
       "    <tr>\n",
       "      <th>3</th>\n",
       "      <td>Burglary</td>\n",
       "      <td>2</td>\n",
       "      <td>1</td>\n",
       "    </tr>\n",
       "    <tr>\n",
       "      <th>4</th>\n",
       "      <td>Criminal damage and arson</td>\n",
       "      <td>1238</td>\n",
       "      <td>0</td>\n",
       "    </tr>\n",
       "    <tr>\n",
       "      <th>5</th>\n",
       "      <td>Criminal damage and arson</td>\n",
       "      <td>46</td>\n",
       "      <td>1</td>\n",
       "    </tr>\n",
       "    <tr>\n",
       "      <th>6</th>\n",
       "      <td>Drugs</td>\n",
       "      <td>34</td>\n",
       "      <td>0</td>\n",
       "    </tr>\n",
       "    <tr>\n",
       "      <th>7</th>\n",
       "      <td>Drugs</td>\n",
       "      <td>45</td>\n",
       "      <td>1</td>\n",
       "    </tr>\n",
       "    <tr>\n",
       "      <th>8</th>\n",
       "      <td>Other crime</td>\n",
       "      <td>116</td>\n",
       "      <td>0</td>\n",
       "    </tr>\n",
       "    <tr>\n",
       "      <th>9</th>\n",
       "      <td>Other crime</td>\n",
       "      <td>3</td>\n",
       "      <td>1</td>\n",
       "    </tr>\n",
       "    <tr>\n",
       "      <th>10</th>\n",
       "      <td>Other theft</td>\n",
       "      <td>895</td>\n",
       "      <td>0</td>\n",
       "    </tr>\n",
       "    <tr>\n",
       "      <th>11</th>\n",
       "      <td>Other theft</td>\n",
       "      <td>4</td>\n",
       "      <td>1</td>\n",
       "    </tr>\n",
       "    <tr>\n",
       "      <th>12</th>\n",
       "      <td>Possession of weapons</td>\n",
       "      <td>73</td>\n",
       "      <td>0</td>\n",
       "    </tr>\n",
       "    <tr>\n",
       "      <th>13</th>\n",
       "      <td>Possession of weapons</td>\n",
       "      <td>12</td>\n",
       "      <td>1</td>\n",
       "    </tr>\n",
       "    <tr>\n",
       "      <th>14</th>\n",
       "      <td>Public order</td>\n",
       "      <td>902</td>\n",
       "      <td>0</td>\n",
       "    </tr>\n",
       "    <tr>\n",
       "      <th>15</th>\n",
       "      <td>Public order</td>\n",
       "      <td>47</td>\n",
       "      <td>1</td>\n",
       "    </tr>\n",
       "    <tr>\n",
       "      <th>16</th>\n",
       "      <td>Robbery</td>\n",
       "      <td>83</td>\n",
       "      <td>0</td>\n",
       "    </tr>\n",
       "    <tr>\n",
       "      <th>17</th>\n",
       "      <td>Robbery</td>\n",
       "      <td>4</td>\n",
       "      <td>1</td>\n",
       "    </tr>\n",
       "    <tr>\n",
       "      <th>18</th>\n",
       "      <td>Shoplifting</td>\n",
       "      <td>672</td>\n",
       "      <td>0</td>\n",
       "    </tr>\n",
       "    <tr>\n",
       "      <th>19</th>\n",
       "      <td>Shoplifting</td>\n",
       "      <td>43</td>\n",
       "      <td>1</td>\n",
       "    </tr>\n",
       "    <tr>\n",
       "      <th>20</th>\n",
       "      <td>Theft from the person</td>\n",
       "      <td>78</td>\n",
       "      <td>0</td>\n",
       "    </tr>\n",
       "    <tr>\n",
       "      <th>21</th>\n",
       "      <td>Vehicle crime</td>\n",
       "      <td>805</td>\n",
       "      <td>0</td>\n",
       "    </tr>\n",
       "    <tr>\n",
       "      <th>22</th>\n",
       "      <td>Vehicle crime</td>\n",
       "      <td>4</td>\n",
       "      <td>1</td>\n",
       "    </tr>\n",
       "    <tr>\n",
       "      <th>23</th>\n",
       "      <td>Violence and sexual offences</td>\n",
       "      <td>3769</td>\n",
       "      <td>0</td>\n",
       "    </tr>\n",
       "    <tr>\n",
       "      <th>24</th>\n",
       "      <td>Violence and sexual offences</td>\n",
       "      <td>126</td>\n",
       "      <td>1</td>\n",
       "    </tr>\n",
       "  </tbody>\n",
       "</table>\n",
       "</div>"
      ],
      "text/plain": [
       "                      Crime type  number_crimes  punishment\n",
       "0                  Bicycle theft            217           0\n",
       "1                  Bicycle theft              2           1\n",
       "2                       Burglary            830           0\n",
       "3                       Burglary              2           1\n",
       "4      Criminal damage and arson           1238           0\n",
       "5      Criminal damage and arson             46           1\n",
       "6                          Drugs             34           0\n",
       "7                          Drugs             45           1\n",
       "8                    Other crime            116           0\n",
       "9                    Other crime              3           1\n",
       "10                   Other theft            895           0\n",
       "11                   Other theft              4           1\n",
       "12         Possession of weapons             73           0\n",
       "13         Possession of weapons             12           1\n",
       "14                  Public order            902           0\n",
       "15                  Public order             47           1\n",
       "16                       Robbery             83           0\n",
       "17                       Robbery              4           1\n",
       "18                   Shoplifting            672           0\n",
       "19                   Shoplifting             43           1\n",
       "20         Theft from the person             78           0\n",
       "21                 Vehicle crime            805           0\n",
       "22                 Vehicle crime              4           1\n",
       "23  Violence and sexual offences           3769           0\n",
       "24  Violence and sexual offences            126           1"
      ]
     },
     "execution_count": 34,
     "metadata": {},
     "output_type": "execute_result"
    }
   ],
   "source": [
    "dist_crimesPunish"
   ]
  },
  {
   "cell_type": "code",
   "execution_count": 35,
   "metadata": {},
   "outputs": [
    {
     "data": {
      "image/png": "[encoded data removed]",
      "text/plain": [
       "<Figure size 1476x468 with 1 Axes>"
      ]
     },
     "metadata": {},
     "output_type": "display_data"
    }
   ],
   "source": [
    "sns.set(style='white')\n",
    "\n",
    "_ = plt.figure(figsize=(20.5, 6.5))\n",
    "_ = plt.yscale('log')\n",
    "_ = sns.barplot(x='Crime type', y='number_crimes', hue='punishment', data=dist_crimesPunish, palette='pastel')\n",
    "_ = plt.title('Distribution of types of crimes and punishments in logarithmic scale', size=20)\n",
    "_ = plt.xticks((0, 1, 2, 3, 4, 5, 6, 7, 8, 9, 10, 11, 12), \n",
    "               ('Theft', \n",
    "                'Robbery', \n",
    "                'Weapons', \n",
    "                'Other', \n",
    "                'Bicycle theft', \n",
    "                'Drugs', \n",
    "                'Vehicle crime', \n",
    "                'Burglary', \n",
    "                'Other theft', \n",
    "                'Shoplifting', \n",
    "                'Public order',\n",
    "                'Criminal', \n",
    "                'Sexual offenses'), color='k', size=14)\n",
    "_ = plt.xlabel('Type of crime', size=16)\n",
    "_ = plt.ylabel('Number of crimes (log)', size=16)"
   ]
  },
  {
   "cell_type": "markdown",
   "metadata": {},
   "source": [
    "Comparing the type of crimes and how many of them have an effective sentence, we observe that cases related to **weapons, burglaries, shoplifting and violence and sexual offenses** have between 10 and 100 cases with enough proofs to declare a sentence."
   ]
  },
  {
   "cell_type": "markdown",
   "metadata": {},
   "source": [
    "### Predictive Modeling\n",
    "\n",
    "#### Selection of features\n",
    "\n",
    "As we mentioned early, we'll use `Location`, `LSOA name` and `Crime type` to resolve the binary classification problem about the punishment of the crime. "
   ]
  },
  {
   "cell_type": "code",
   "execution_count": 36,
   "metadata": {},
   "outputs": [],
   "source": [
    "df_modeling = df.loc[:, ['Location', 'LSOA name', 'Crime type', 'punishment']]"
   ]
  },
  {
   "cell_type": "code",
   "execution_count": 37,
   "metadata": {
    "scrolled": true
   },
   "outputs": [
    {
     "data": {
      "text/html": [
       "<div>\n",
       "<style scoped>\n",
       "    .dataframe tbody tr th:only-of-type {\n",
       "        vertical-align: middle;\n",
       "    }\n",
       "\n",
       "    .dataframe tbody tr th {\n",
       "        vertical-align: top;\n",
       "    }\n",
       "\n",
       "    .dataframe thead th {\n",
       "        text-align: right;\n",
       "    }\n",
       "</style>\n",
       "<table border=\"1\" class=\"dataframe\">\n",
       "  <thead>\n",
       "    <tr style=\"text-align: right;\">\n",
       "      <th></th>\n",
       "      <th>Location</th>\n",
       "      <th>LSOA name</th>\n",
       "      <th>Crime type</th>\n",
       "      <th>punishment</th>\n",
       "    </tr>\n",
       "  </thead>\n",
       "  <tbody>\n",
       "    <tr>\n",
       "      <th>2</th>\n",
       "      <td>On or near Denmead Road</td>\n",
       "      <td>Basingstoke and Deane 001A</td>\n",
       "      <td>Burglary</td>\n",
       "      <td>0</td>\n",
       "    </tr>\n",
       "    <tr>\n",
       "      <th>3</th>\n",
       "      <td>On or near Silverdale Road</td>\n",
       "      <td>Basingstoke and Deane 001A</td>\n",
       "      <td>Violence and sexual offences</td>\n",
       "      <td>0</td>\n",
       "    </tr>\n",
       "    <tr>\n",
       "      <th>4</th>\n",
       "      <td>On or near Huntsmoor Road</td>\n",
       "      <td>Basingstoke and Deane 001B</td>\n",
       "      <td>Criminal damage and arson</td>\n",
       "      <td>0</td>\n",
       "    </tr>\n",
       "    <tr>\n",
       "      <th>5</th>\n",
       "      <td>On or near Wigmore Road</td>\n",
       "      <td>Basingstoke and Deane 001B</td>\n",
       "      <td>Criminal damage and arson</td>\n",
       "      <td>0</td>\n",
       "    </tr>\n",
       "    <tr>\n",
       "      <th>6</th>\n",
       "      <td>On or near Ash Lane</td>\n",
       "      <td>Basingstoke and Deane 001B</td>\n",
       "      <td>Other theft</td>\n",
       "      <td>0</td>\n",
       "    </tr>\n",
       "  </tbody>\n",
       "</table>\n",
       "</div>"
      ],
      "text/plain": [
       "                     Location                   LSOA name  \\\n",
       "2     On or near Denmead Road  Basingstoke and Deane 001A   \n",
       "3  On or near Silverdale Road  Basingstoke and Deane 001A   \n",
       "4   On or near Huntsmoor Road  Basingstoke and Deane 001B   \n",
       "5     On or near Wigmore Road  Basingstoke and Deane 001B   \n",
       "6         On or near Ash Lane  Basingstoke and Deane 001B   \n",
       "\n",
       "                     Crime type  punishment  \n",
       "2                      Burglary           0  \n",
       "3  Violence and sexual offences           0  \n",
       "4     Criminal damage and arson           0  \n",
       "5     Criminal damage and arson           0  \n",
       "6                   Other theft           0  "
      ]
     },
     "execution_count": 37,
     "metadata": {},
     "output_type": "execute_result"
    }
   ],
   "source": [
    "df_modeling.head()"
   ]
  },
  {
   "cell_type": "markdown",
   "metadata": {},
   "source": [
    "1000 samples are randomly choosen from the negative punishment, as `df_unguilty`. The positive punishments correspond to `df_guilty` and finally both subsets are concatenated in `df_guilt`:"
   ]
  },
  {
   "cell_type": "code",
   "execution_count": 38,
   "metadata": {},
   "outputs": [],
   "source": [
    "df_unguilty = df_modeling[df_modeling.punishment == 0].sample(1000, random_state=0)\n",
    "df_guilty = df_modeling[df_modeling.punishment == 1]"
   ]
  },
  {
   "cell_type": "code",
   "execution_count": 39,
   "metadata": {},
   "outputs": [],
   "source": [
    "df_guilt = pd.concat([df_guilty, df_unguilty])"
   ]
  },
  {
   "cell_type": "code",
   "execution_count": 40,
   "metadata": {},
   "outputs": [
    {
     "name": "stdout",
     "output_type": "stream",
     "text": [
      "<class 'pandas.core.frame.DataFrame'>\n",
      "Int64Index: 1338 entries, 78 to 6199\n",
      "Data columns (total 4 columns):\n",
      "Location      1338 non-null object\n",
      "LSOA name     1338 non-null object\n",
      "Crime type    1338 non-null object\n",
      "punishment    1338 non-null int64\n",
      "dtypes: int64(1), object(3)\n",
      "memory usage: 52.3+ KB\n"
     ]
    }
   ],
   "source": [
    "df_guilt.info()"
   ]
  },
  {
   "cell_type": "code",
   "execution_count": 41,
   "metadata": {},
   "outputs": [
    {
     "data": {
      "text/html": [
       "<div>\n",
       "<style scoped>\n",
       "    .dataframe tbody tr th:only-of-type {\n",
       "        vertical-align: middle;\n",
       "    }\n",
       "\n",
       "    .dataframe tbody tr th {\n",
       "        vertical-align: top;\n",
       "    }\n",
       "\n",
       "    .dataframe thead th {\n",
       "        text-align: right;\n",
       "    }\n",
       "</style>\n",
       "<table border=\"1\" class=\"dataframe\">\n",
       "  <thead>\n",
       "    <tr style=\"text-align: right;\">\n",
       "      <th></th>\n",
       "      <th>Location</th>\n",
       "      <th>LSOA name</th>\n",
       "      <th>Crime type</th>\n",
       "    </tr>\n",
       "    <tr>\n",
       "      <th>punishment</th>\n",
       "      <th></th>\n",
       "      <th></th>\n",
       "      <th></th>\n",
       "    </tr>\n",
       "  </thead>\n",
       "  <tbody>\n",
       "    <tr>\n",
       "      <th>0</th>\n",
       "      <td>0.747384</td>\n",
       "      <td>0.747384</td>\n",
       "      <td>0.747384</td>\n",
       "    </tr>\n",
       "    <tr>\n",
       "      <th>1</th>\n",
       "      <td>0.252616</td>\n",
       "      <td>0.252616</td>\n",
       "      <td>0.252616</td>\n",
       "    </tr>\n",
       "  </tbody>\n",
       "</table>\n",
       "</div>"
      ],
      "text/plain": [
       "            Location  LSOA name  Crime type\n",
       "punishment                                 \n",
       "0           0.747384   0.747384    0.747384\n",
       "1           0.252616   0.252616    0.252616"
      ]
     },
     "execution_count": 41,
     "metadata": {},
     "output_type": "execute_result"
    }
   ],
   "source": [
    "df_guilt.groupby('punishment').count()/len(df_guilt)"
   ]
  },
  {
   "cell_type": "markdown",
   "metadata": {},
   "source": [
    "#### Transforming categorical data"
   ]
  },
  {
   "cell_type": "code",
   "execution_count": 42,
   "metadata": {},
   "outputs": [],
   "source": [
    "location = pd.get_dummies(df_guilt['Location'], prefix='Location')\n",
    "lsoa = pd.get_dummies(df_guilt['LSOA name'], prefix='LSOA name')\n",
    "crime = pd.get_dummies(df_guilt['Crime type'], prefix='Crime type')"
   ]
  },
  {
   "cell_type": "code",
   "execution_count": 43,
   "metadata": {},
   "outputs": [],
   "source": [
    "data = location.join(lsoa)\n",
    "data = data.join(crime)"
   ]
  },
  {
   "cell_type": "code",
   "execution_count": 44,
   "metadata": {},
   "outputs": [
    {
     "data": {
      "text/html": [
       "<div>\n",
       "<style scoped>\n",
       "    .dataframe tbody tr th:only-of-type {\n",
       "        vertical-align: middle;\n",
       "    }\n",
       "\n",
       "    .dataframe tbody tr th {\n",
       "        vertical-align: top;\n",
       "    }\n",
       "\n",
       "    .dataframe thead th {\n",
       "        text-align: right;\n",
       "    }\n",
       "</style>\n",
       "<table border=\"1\" class=\"dataframe\">\n",
       "  <thead>\n",
       "    <tr style=\"text-align: right;\">\n",
       "      <th></th>\n",
       "      <th>Location_On or near A2030</th>\n",
       "      <th>Location_On or near A3020</th>\n",
       "      <th>Location_On or near A3023</th>\n",
       "      <th>Location_On or near A3057</th>\n",
       "      <th>Location_On or near A3093</th>\n",
       "      <th>Location_On or near A33</th>\n",
       "      <th>Location_On or near Abbeydore Road</th>\n",
       "      <th>Location_On or near Acorn Close</th>\n",
       "      <th>Location_On or near Acre Path</th>\n",
       "      <th>Location_On or near Adams Way</th>\n",
       "      <th>...</th>\n",
       "      <th>Crime type_Drugs</th>\n",
       "      <th>Crime type_Other crime</th>\n",
       "      <th>Crime type_Other theft</th>\n",
       "      <th>Crime type_Possession of weapons</th>\n",
       "      <th>Crime type_Public order</th>\n",
       "      <th>Crime type_Robbery</th>\n",
       "      <th>Crime type_Shoplifting</th>\n",
       "      <th>Crime type_Theft from the person</th>\n",
       "      <th>Crime type_Vehicle crime</th>\n",
       "      <th>Crime type_Violence and sexual offences</th>\n",
       "    </tr>\n",
       "  </thead>\n",
       "  <tbody>\n",
       "    <tr>\n",
       "      <th>78</th>\n",
       "      <td>0</td>\n",
       "      <td>0</td>\n",
       "      <td>0</td>\n",
       "      <td>0</td>\n",
       "      <td>0</td>\n",
       "      <td>0</td>\n",
       "      <td>0</td>\n",
       "      <td>0</td>\n",
       "      <td>0</td>\n",
       "      <td>0</td>\n",
       "      <td>...</td>\n",
       "      <td>0</td>\n",
       "      <td>0</td>\n",
       "      <td>0</td>\n",
       "      <td>0</td>\n",
       "      <td>0</td>\n",
       "      <td>0</td>\n",
       "      <td>0</td>\n",
       "      <td>0</td>\n",
       "      <td>0</td>\n",
       "      <td>1</td>\n",
       "    </tr>\n",
       "    <tr>\n",
       "      <th>148</th>\n",
       "      <td>0</td>\n",
       "      <td>0</td>\n",
       "      <td>0</td>\n",
       "      <td>0</td>\n",
       "      <td>0</td>\n",
       "      <td>0</td>\n",
       "      <td>0</td>\n",
       "      <td>0</td>\n",
       "      <td>0</td>\n",
       "      <td>0</td>\n",
       "      <td>...</td>\n",
       "      <td>0</td>\n",
       "      <td>0</td>\n",
       "      <td>0</td>\n",
       "      <td>0</td>\n",
       "      <td>0</td>\n",
       "      <td>0</td>\n",
       "      <td>0</td>\n",
       "      <td>0</td>\n",
       "      <td>0</td>\n",
       "      <td>1</td>\n",
       "    </tr>\n",
       "    <tr>\n",
       "      <th>228</th>\n",
       "      <td>0</td>\n",
       "      <td>0</td>\n",
       "      <td>0</td>\n",
       "      <td>0</td>\n",
       "      <td>0</td>\n",
       "      <td>0</td>\n",
       "      <td>0</td>\n",
       "      <td>0</td>\n",
       "      <td>0</td>\n",
       "      <td>0</td>\n",
       "      <td>...</td>\n",
       "      <td>0</td>\n",
       "      <td>0</td>\n",
       "      <td>0</td>\n",
       "      <td>0</td>\n",
       "      <td>0</td>\n",
       "      <td>0</td>\n",
       "      <td>0</td>\n",
       "      <td>0</td>\n",
       "      <td>0</td>\n",
       "      <td>1</td>\n",
       "    </tr>\n",
       "    <tr>\n",
       "      <th>338</th>\n",
       "      <td>0</td>\n",
       "      <td>0</td>\n",
       "      <td>0</td>\n",
       "      <td>0</td>\n",
       "      <td>0</td>\n",
       "      <td>0</td>\n",
       "      <td>0</td>\n",
       "      <td>0</td>\n",
       "      <td>0</td>\n",
       "      <td>0</td>\n",
       "      <td>...</td>\n",
       "      <td>0</td>\n",
       "      <td>0</td>\n",
       "      <td>0</td>\n",
       "      <td>0</td>\n",
       "      <td>0</td>\n",
       "      <td>0</td>\n",
       "      <td>0</td>\n",
       "      <td>0</td>\n",
       "      <td>0</td>\n",
       "      <td>1</td>\n",
       "    </tr>\n",
       "    <tr>\n",
       "      <th>487</th>\n",
       "      <td>0</td>\n",
       "      <td>0</td>\n",
       "      <td>0</td>\n",
       "      <td>0</td>\n",
       "      <td>0</td>\n",
       "      <td>0</td>\n",
       "      <td>0</td>\n",
       "      <td>0</td>\n",
       "      <td>0</td>\n",
       "      <td>0</td>\n",
       "      <td>...</td>\n",
       "      <td>0</td>\n",
       "      <td>0</td>\n",
       "      <td>0</td>\n",
       "      <td>0</td>\n",
       "      <td>0</td>\n",
       "      <td>0</td>\n",
       "      <td>0</td>\n",
       "      <td>0</td>\n",
       "      <td>0</td>\n",
       "      <td>1</td>\n",
       "    </tr>\n",
       "  </tbody>\n",
       "</table>\n",
       "<p>5 rows × 1519 columns</p>\n",
       "</div>"
      ],
      "text/plain": [
       "     Location_On or near A2030  Location_On or near A3020  \\\n",
       "78                           0                          0   \n",
       "148                          0                          0   \n",
       "228                          0                          0   \n",
       "338                          0                          0   \n",
       "487                          0                          0   \n",
       "\n",
       "     Location_On or near A3023  Location_On or near A3057  \\\n",
       "78                           0                          0   \n",
       "148                          0                          0   \n",
       "228                          0                          0   \n",
       "338                          0                          0   \n",
       "487                          0                          0   \n",
       "\n",
       "     Location_On or near A3093  Location_On or near A33  \\\n",
       "78                           0                        0   \n",
       "148                          0                        0   \n",
       "228                          0                        0   \n",
       "338                          0                        0   \n",
       "487                          0                        0   \n",
       "\n",
       "     Location_On or near Abbeydore Road  Location_On or near Acorn Close  \\\n",
       "78                                    0                                0   \n",
       "148                                   0                                0   \n",
       "228                                   0                                0   \n",
       "338                                   0                                0   \n",
       "487                                   0                                0   \n",
       "\n",
       "     Location_On or near Acre Path  Location_On or near Adams Way  \\\n",
       "78                               0                              0   \n",
       "148                              0                              0   \n",
       "228                              0                              0   \n",
       "338                              0                              0   \n",
       "487                              0                              0   \n",
       "\n",
       "                      ...                     Crime type_Drugs  \\\n",
       "78                    ...                                    0   \n",
       "148                   ...                                    0   \n",
       "228                   ...                                    0   \n",
       "338                   ...                                    0   \n",
       "487                   ...                                    0   \n",
       "\n",
       "     Crime type_Other crime  Crime type_Other theft  \\\n",
       "78                        0                       0   \n",
       "148                       0                       0   \n",
       "228                       0                       0   \n",
       "338                       0                       0   \n",
       "487                       0                       0   \n",
       "\n",
       "     Crime type_Possession of weapons  Crime type_Public order  \\\n",
       "78                                  0                        0   \n",
       "148                                 0                        0   \n",
       "228                                 0                        0   \n",
       "338                                 0                        0   \n",
       "487                                 0                        0   \n",
       "\n",
       "     Crime type_Robbery  Crime type_Shoplifting  \\\n",
       "78                    0                       0   \n",
       "148                   0                       0   \n",
       "228                   0                       0   \n",
       "338                   0                       0   \n",
       "487                   0                       0   \n",
       "\n",
       "     Crime type_Theft from the person  Crime type_Vehicle crime  \\\n",
       "78                                  0                         0   \n",
       "148                                 0                         0   \n",
       "228                                 0                         0   \n",
       "338                                 0                         0   \n",
       "487                                 0                         0   \n",
       "\n",
       "     Crime type_Violence and sexual offences  \n",
       "78                                         1  \n",
       "148                                        1  \n",
       "228                                        1  \n",
       "338                                        1  \n",
       "487                                        1  \n",
       "\n",
       "[5 rows x 1519 columns]"
      ]
     },
     "execution_count": 44,
     "metadata": {},
     "output_type": "execute_result"
    }
   ],
   "source": [
    "data.head()"
   ]
  },
  {
   "cell_type": "code",
   "execution_count": 45,
   "metadata": {},
   "outputs": [
    {
     "data": {
      "text/plain": [
       "Index(['Location_On or near A2030', 'Location_On or near A3020',\n",
       "       'Location_On or near A3023', 'Location_On or near A3057',\n",
       "       'Location_On or near A3093', 'Location_On or near A33',\n",
       "       'Location_On or near Abbeydore Road', 'Location_On or near Acorn Close',\n",
       "       'Location_On or near Acre Path', 'Location_On or near Adams Way',\n",
       "       ...\n",
       "       'Crime type_Drugs', 'Crime type_Other crime', 'Crime type_Other theft',\n",
       "       'Crime type_Possession of weapons', 'Crime type_Public order',\n",
       "       'Crime type_Robbery', 'Crime type_Shoplifting',\n",
       "       'Crime type_Theft from the person', 'Crime type_Vehicle crime',\n",
       "       'Crime type_Violence and sexual offences'],\n",
       "      dtype='object', length=1519)"
      ]
     },
     "execution_count": 45,
     "metadata": {},
     "output_type": "execute_result"
    }
   ],
   "source": [
    "data.columns"
   ]
  },
  {
   "cell_type": "markdown",
   "metadata": {},
   "source": [
    "#### Over sampling using SMOTE\n",
    "\n",
    "As we checked before, 74.7% of data belongs to the same category. In that unbalanced scenario, we use [SMOTE](https://imbalanced-learn.readthedocs.io/en/stable/generated/imblearn.over_sampling.SMOTE.html) for oversampling the category with less information. The simplest approach to face unbalance data consists in duplicating examples in the minority class (it means that those new examples don't add new information to the model), but instead, new examples can be *synthetized* from the data. In other words, we apply *data augmentation* for the minority class or Synthetic Minority Oversampling Technique, SMOTE.\n",
    "\n",
    "**SMOTE** selects random example from the minority class and choose one of his K nearest neighbors (typically k=5) in the feature space and a synthetic example is created in a random point of the line between both examples.\n",
    "\n",
    "**Borderline-SMOTE** is an extension that allows to select those instances of the minority class that are misclassified with a KNN classification model. To do that, we oversample the difficult features, improving the resolution where it is required."
   ]
  },
  {
   "cell_type": "code",
   "execution_count": 46,
   "metadata": {},
   "outputs": [
    {
     "name": "stdout",
     "output_type": "stream",
     "text": [
      "Requirement already satisfied: imbalanced-learn in /Users/daniela/anaconda3/lib/python3.7/site-packages (0.6.2)\n",
      "Requirement already satisfied: scipy>=0.17 in /Users/daniela/anaconda3/lib/python3.7/site-packages (from imbalanced-learn) (1.4.1)\n",
      "Requirement already satisfied: scikit-learn>=0.22 in /Users/daniela/anaconda3/lib/python3.7/site-packages (from imbalanced-learn) (0.22.2.post1)\n",
      "Requirement already satisfied: numpy>=1.11 in /Users/daniela/anaconda3/lib/python3.7/site-packages (from imbalanced-learn) (1.17.3)\n",
      "Requirement already satisfied: joblib>=0.11 in /Users/daniela/anaconda3/lib/python3.7/site-packages (from imbalanced-learn) (0.14.1)\n"
     ]
    }
   ],
   "source": [
    "import sys\n",
    "\n",
    "!{sys.executable} -m pip install imbalanced-learn"
   ]
  },
  {
   "cell_type": "code",
   "execution_count": 47,
   "metadata": {},
   "outputs": [],
   "source": [
    "y = df_guilt.punishment\n",
    "X = data"
   ]
  },
  {
   "cell_type": "code",
   "execution_count": 48,
   "metadata": {},
   "outputs": [],
   "source": [
    "X_train, X_test, y_train, y_test = train_test_split(X, y, test_size=0.3, random_state=0)"
   ]
  },
  {
   "cell_type": "code",
   "execution_count": 49,
   "metadata": {},
   "outputs": [],
   "source": [
    "columns = X_train.columns"
   ]
  },
  {
   "cell_type": "markdown",
   "metadata": {},
   "source": [
    "Import SMOTE and BorderlineSMOTE and synthetize as examples as required to complete one thousand of positive punishments:"
   ]
  },
  {
   "cell_type": "code",
   "execution_count": 50,
   "metadata": {},
   "outputs": [
    {
     "name": "stderr",
     "output_type": "stream",
     "text": [
      "Using TensorFlow backend.\n"
     ]
    },
    {
     "name": "stdout",
     "output_type": "stream",
     "text": [
      "Resampled dataset shape Counter({1: 1000, 0: 1000})\n"
     ]
    }
   ],
   "source": [
    "from imblearn.over_sampling import SMOTE\n",
    "\n",
    "over = SMOTE()\n",
    "\n",
    "X_smote, y_smote = over.fit_resample(X, y)\n",
    "print('Resampled dataset shape %s' % Counter(y_smote))\n",
    "\n",
    "smote_data_X = pd.DataFrame(data=X_smote, columns=columns)\n",
    "smote_data_y= pd.DataFrame(data=y_smote)"
   ]
  },
  {
   "cell_type": "code",
   "execution_count": 51,
   "metadata": {},
   "outputs": [
    {
     "name": "stdout",
     "output_type": "stream",
     "text": [
      "Resampled dataset shape Counter({1: 1000, 0: 1000})\n"
     ]
    }
   ],
   "source": [
    "from imblearn.over_sampling import BorderlineSMOTE\n",
    "\n",
    "sm = BorderlineSMOTE(random_state=42)\n",
    "X_border, y_border = sm.fit_resample(X, y)\n",
    "print('Resampled dataset shape %s' % Counter(y_border))\n",
    "\n",
    "border_data_X = pd.DataFrame(data=X_border, columns=columns)\n",
    "border_data_y= pd.DataFrame(data=y_border)"
   ]
  },
  {
   "cell_type": "markdown",
   "metadata": {},
   "source": [
    "#### Training the Logistic Regression Model using SMOTE and BorderlineSMOTE\n",
    "\n",
    "And finally, we train our Logistic Regression Model, using the default parameters."
   ]
  },
  {
   "cell_type": "code",
   "execution_count": 52,
   "metadata": {},
   "outputs": [],
   "source": [
    "X_train, X_test, y_train, y_test = train_test_split(smote_data_X, smote_data_y, test_size=0.3, random_state=0)\n",
    "X_train_br, X_test_br, y_train_br, y_test_br = train_test_split(border_data_X,  border_data_y, test_size=0.3, random_state=0)"
   ]
  },
  {
   "cell_type": "code",
   "execution_count": 53,
   "metadata": {},
   "outputs": [
    {
     "data": {
      "text/plain": [
       "LogisticRegression(C=1.0, class_weight=None, dual=False, fit_intercept=True,\n",
       "                   intercept_scaling=1, l1_ratio=None, max_iter=100,\n",
       "                   multi_class='auto', n_jobs=None, penalty='l2',\n",
       "                   random_state=None, solver='lbfgs', tol=0.0001, verbose=0,\n",
       "                   warm_start=False)"
      ]
     },
     "execution_count": 53,
     "metadata": {},
     "output_type": "execute_result"
    }
   ],
   "source": [
    "logreg = LogisticRegression()\n",
    "logreg.fit(X_train, y_train)"
   ]
  },
  {
   "cell_type": "code",
   "execution_count": 54,
   "metadata": {},
   "outputs": [
    {
     "data": {
      "text/plain": [
       "LogisticRegression(C=1.0, class_weight=None, dual=False, fit_intercept=True,\n",
       "                   intercept_scaling=1, l1_ratio=None, max_iter=100,\n",
       "                   multi_class='auto', n_jobs=None, penalty='l2',\n",
       "                   random_state=None, solver='lbfgs', tol=0.0001, verbose=0,\n",
       "                   warm_start=False)"
      ]
     },
     "execution_count": 54,
     "metadata": {},
     "output_type": "execute_result"
    }
   ],
   "source": [
    "logreg_br = LogisticRegression()\n",
    "logreg_br.fit(X_train_br, y_train_br)"
   ]
  },
  {
   "cell_type": "markdown",
   "metadata": {},
   "source": [
    "#### Evaluating the model\n",
    "\n",
    "To following, we evaluate the model using **accuracy**, **confusion matrix** and the classification report tool of sklearn that includes **recall** and **F1 score**."
   ]
  },
  {
   "cell_type": "code",
   "execution_count": 55,
   "metadata": {},
   "outputs": [
    {
     "name": "stdout",
     "output_type": "stream",
     "text": [
      "Accuracy of logistic regression classifier on test set using SMOTE: 0.83\n"
     ]
    }
   ],
   "source": [
    "y_pred = logreg.predict(X_test)\n",
    "print('Accuracy of logistic regression classifier on test set using SMOTE: {:.2f}'.format(logreg.score(X_test, y_test)))"
   ]
  },
  {
   "cell_type": "code",
   "execution_count": 56,
   "metadata": {},
   "outputs": [
    {
     "name": "stdout",
     "output_type": "stream",
     "text": [
      "Accuracy of logistic regression classifier on test set using BorderlineSMOTE: 0.84\n"
     ]
    }
   ],
   "source": [
    "y_pred_br = logreg_br.predict(X_test_br)\n",
    "print('Accuracy of logistic regression classifier on test set using BorderlineSMOTE: {:.2f}'.format(logreg_br.score(X_test_br, y_test_br)))"
   ]
  },
  {
   "cell_type": "code",
   "execution_count": 57,
   "metadata": {},
   "outputs": [
    {
     "name": "stdout",
     "output_type": "stream",
     "text": [
      "[[282  14]\n",
      " [ 85 219]]\n"
     ]
    }
   ],
   "source": [
    "cm = confusion_matrix(y_test, y_pred)\n",
    "print(cm)"
   ]
  },
  {
   "cell_type": "code",
   "execution_count": 58,
   "metadata": {},
   "outputs": [
    {
     "name": "stdout",
     "output_type": "stream",
     "text": [
      "[[284  12]\n",
      " [ 84 220]]\n"
     ]
    }
   ],
   "source": [
    "cm_br = confusion_matrix(y_test_br, y_pred_br)\n",
    "print(cm_br)"
   ]
  },
  {
   "cell_type": "code",
   "execution_count": 59,
   "metadata": {},
   "outputs": [
    {
     "name": "stdout",
     "output_type": "stream",
     "text": [
      "              precision    recall  f1-score   support\n",
      "\n",
      "           0       0.77      0.95      0.85       296\n",
      "           1       0.94      0.72      0.82       304\n",
      "\n",
      "    accuracy                           0.83       600\n",
      "   macro avg       0.85      0.84      0.83       600\n",
      "weighted avg       0.86      0.83      0.83       600\n",
      "\n"
     ]
    }
   ],
   "source": [
    "print(classification_report(y_test, y_pred))"
   ]
  },
  {
   "cell_type": "code",
   "execution_count": 60,
   "metadata": {},
   "outputs": [
    {
     "name": "stdout",
     "output_type": "stream",
     "text": [
      "              precision    recall  f1-score   support\n",
      "\n",
      "           0       0.77      0.96      0.86       296\n",
      "           1       0.95      0.72      0.82       304\n",
      "\n",
      "    accuracy                           0.84       600\n",
      "   macro avg       0.86      0.84      0.84       600\n",
      "weighted avg       0.86      0.84      0.84       600\n",
      "\n"
     ]
    }
   ],
   "source": [
    "print(classification_report(y_test_br, y_pred_br))"
   ]
  },
  {
   "cell_type": "code",
   "execution_count": 61,
   "metadata": {},
   "outputs": [
    {
     "data": {
      "image/png": "[encoded data removed]",
      "text/plain": [
       "<Figure size 612x612 with 1 Axes>"
      ]
     },
     "metadata": {},
     "output_type": "display_data"
    }
   ],
   "source": [
    "logit_roc_auc_SMOTE = roc_auc_score(y_test, logreg.predict(X_test))\n",
    "fpr, tpr, thresholds = roc_curve(y_test, logreg.predict_proba(X_test)[:,1])\n",
    "\n",
    "logit_roc_auc_borderlineSMOTE = roc_auc_score(y_test_br, logreg_br.predict(X_test_br))\n",
    "fpr_br, tpr_br, thresholds_br = roc_curve(y_test_br, logreg_br.predict_proba(X_test_br)[:,1])\n",
    "\n",
    "_ = plt.figure(figsize=(8.5, 8.5))\n",
    "_ = plt.plot(fpr, tpr, label='SMOTE oversampling')\n",
    "_ = plt.plot(fpr_br, tpr_br, label='BorderlineSMOTE oversampling')\n",
    "_ = plt.plot([0, 1], [0, 1],'r--')\n",
    "_ = plt.xlim([-0.01, 1.0])\n",
    "_ = plt.ylim([0.0, 1.05])\n",
    "_ = plt.xlabel('False Positive Rate', size=14)\n",
    "_ = plt.ylabel('True Positive Rate', size=14)\n",
    "_ = plt.title('ROC curve of Punishment binary classification using SMOTE and BorderlineSMOTE oversampling', size=16)\n",
    "_ = sns.despine(trim=True, left=False)\n",
    "_ = plt.legend(loc='lower right')\n",
    "_ = plt.show()"
   ]
  },
  {
   "cell_type": "code",
   "execution_count": 62,
   "metadata": {},
   "outputs": [
    {
     "name": "stdout",
     "output_type": "stream",
     "text": [
      "AUC SMOTE: 0.84\n",
      "AUC BorderlineSMOTE: 0.84\n"
     ]
    }
   ],
   "source": [
    "print('AUC SMOTE: {:.2f}'.format(logit_roc_auc_SMOTE))\n",
    "print('AUC BorderlineSMOTE: {:.2f}'.format(logit_roc_auc_borderlineSMOTE))"
   ]
  },
  {
   "cell_type": "code",
   "execution_count": null,
   "metadata": {},
   "outputs": [],
   "source": []
  }
 ],
 "metadata": {
  "kernelspec": {
   "display_name": "Python 3",
   "language": "python",
   "name": "python3"
  },
  "language_info": {
   "codemirror_mode": {
    "name": "ipython",
    "version": 3
   },
   "file_extension": ".py",
   "mimetype": "text/x-python",
   "name": "python",
   "nbconvert_exporter": "python",
   "pygments_lexer": "ipython3",
   "version": "3.7.1"
  }
 },
 "nbformat": 4,
 "nbformat_minor": 2
}
